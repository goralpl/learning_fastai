{
 "cells": [
  {
   "cell_type": "code",
   "execution_count": 1,
   "metadata": {},
   "outputs": [],
   "source": [
    "from fastai.text.all import *\n",
    "import os\n",
    "import pandas as pd\n",
    "import warnings\n",
    "warnings.filterwarnings(\"ignore\", category=np.VisibleDeprecationWarning)\n",
    "%config Completer.use_jedi = False"
   ]
  },
  {
   "cell_type": "code",
   "execution_count": 2,
   "metadata": {},
   "outputs": [
    {
     "data": {
      "text/html": [
       "<div>\n",
       "<style scoped>\n",
       "    .dataframe tbody tr th:only-of-type {\n",
       "        vertical-align: middle;\n",
       "    }\n",
       "\n",
       "    .dataframe tbody tr th {\n",
       "        vertical-align: top;\n",
       "    }\n",
       "\n",
       "    .dataframe thead th {\n",
       "        text-align: right;\n",
       "    }\n",
       "</style>\n",
       "<table border=\"1\" class=\"dataframe\">\n",
       "  <thead>\n",
       "    <tr style=\"text-align: right;\">\n",
       "      <th></th>\n",
       "      <th>is_valid</th>\n",
       "      <th>from_txt</th>\n",
       "      <th>to_txt</th>\n",
       "    </tr>\n",
       "  </thead>\n",
       "  <tbody>\n",
       "    <tr>\n",
       "      <th>0</th>\n",
       "      <td>False</td>\n",
       "      <td>Un-bleeping-believable! Meg Ryan doesn't even look her usual pert lovable self in this, which normally makes me forgive her shallow ticky acting schtick. Hard to believe she was the producer on this dog. Plus Kevin Kline: what kind of suicide trip has his career been on? Whoosh... Banzai!!! Finally this was directed by the guy who did Big Chill? Must be a replay of Jonestown - hollywood style. Wooofff!</td>\n",
       "      <td>Un-bleeping-believable! Meg Ryan doesn't even look her usual pert lovable self in this, which normally makes me forgive her shallow ticky acting schtick. Hard to believe she was the producer on this dog. Plus Kevin Kline: what kind of suicide trip has his career been on? Whoosh... Banzai!!! Finally this was directed by the guy who did Big Chill? Must be a replay of Jonestown - hollywood style. Wooofff!</td>\n",
       "    </tr>\n",
       "    <tr>\n",
       "      <th>1</th>\n",
       "      <td>False</td>\n",
       "      <td>This is a extremely well-made film. The acting, script and camera-work are all first-rate. The music is good, too, though it is mostly early in the film, when things are still relatively cheery. There are no really superstars in the cast, though several faces will be familiar. The entire cast does an excellent job with the script.&lt;br /&gt;&lt;br /&gt;But it is hard to watch, because there is no good end to a situation like the one presented. It is now fashionable to blame the British for setting Hindus and Muslims against each other, and then cruelly separating them into two countries. There is som...</td>\n",
       "      <td>This is a extremely well-made film. The acting, script and camera-work are all first-rate. The music is good, too, though it is mostly early in the film, when things are still relatively cheery. There are no really superstars in the cast, though several faces will be familiar. The entire cast does an excellent job with the script.&lt;br /&gt;&lt;br /&gt;But it is hard to watch, because there is no good end to a situation like the one presented. It is now fashionable to blame the British for setting Hindus and Muslims against each other, and then cruelly separating them into two countries. There is som...</td>\n",
       "    </tr>\n",
       "    <tr>\n",
       "      <th>2</th>\n",
       "      <td>False</td>\n",
       "      <td>Every once in a long while a movie will come along that will be so awful that I feel compelled to warn people. If I labor all my days and I can save but one soul from watching this movie, how great will be my joy.&lt;br /&gt;&lt;br /&gt;Where to begin my discussion of pain. For starters, there was a musical montage every five minutes. There was no character development. Every character was a stereotype. We had swearing guy, fat guy who eats donuts, goofy foreign guy, etc. The script felt as if it were being written as the movie was being shot. The production value was so incredibly low that it felt li...</td>\n",
       "      <td>Every once in a long while a movie will come along that will be so awful that I feel compelled to warn people. If I labor all my days and I can save but one soul from watching this movie, how great will be my joy.&lt;br /&gt;&lt;br /&gt;Where to begin my discussion of pain. For starters, there was a musical montage every five minutes. There was no character development. Every character was a stereotype. We had swearing guy, fat guy who eats donuts, goofy foreign guy, etc. The script felt as if it were being written as the movie was being shot. The production value was so incredibly low that it felt li...</td>\n",
       "    </tr>\n",
       "    <tr>\n",
       "      <th>3</th>\n",
       "      <td>False</td>\n",
       "      <td>Name just says it all. I watched this movie with my dad when it came out and having served in Korea he had great admiration for the man. The disappointing thing about this film is that it only concentrate on a short period of the man's life - interestingly enough the man's entire life would have made such an epic bio-pic that it is staggering to imagine the cost for production.&lt;br /&gt;&lt;br /&gt;Some posters elude to the flawed characteristics about the man, which are cheap shots. The theme of the movie \"Duty, Honor, Country\" are not just mere words blathered from the lips of a high-brassed offic...</td>\n",
       "      <td>Name just says it all. I watched this movie with my dad when it came out and having served in Korea he had great admiration for the man. The disappointing thing about this film is that it only concentrate on a short period of the man's life - interestingly enough the man's entire life would have made such an epic bio-pic that it is staggering to imagine the cost for production.&lt;br /&gt;&lt;br /&gt;Some posters elude to the flawed characteristics about the man, which are cheap shots. The theme of the movie \"Duty, Honor, Country\" are not just mere words blathered from the lips of a high-brassed offic...</td>\n",
       "    </tr>\n",
       "    <tr>\n",
       "      <th>4</th>\n",
       "      <td>False</td>\n",
       "      <td>This movie succeeds at being one of the most unique movies you've seen. However this comes from the fact that you can't make heads or tails of this mess. It almost seems as a series of challenges set up to determine whether or not you are willing to walk out of the movie and give up the money you just paid. If you don't want to feel slighted you'll sit through this horrible film and develop a real sense of pity for the actors involved, they've all seen better days, but then you realize they actually got paid quite a bit of money to do this and you'll lose pity for them just like you've alr...</td>\n",
       "      <td>This movie succeeds at being one of the most unique movies you've seen. However this comes from the fact that you can't make heads or tails of this mess. It almost seems as a series of challenges set up to determine whether or not you are willing to walk out of the movie and give up the money you just paid. If you don't want to feel slighted you'll sit through this horrible film and develop a real sense of pity for the actors involved, they've all seen better days, but then you realize they actually got paid quite a bit of money to do this and you'll lose pity for them just like you've alr...</td>\n",
       "    </tr>\n",
       "  </tbody>\n",
       "</table>\n",
       "</div>"
      ],
      "text/plain": [
       "   is_valid  \\\n",
       "0     False   \n",
       "1     False   \n",
       "2     False   \n",
       "3     False   \n",
       "4     False   \n",
       "\n",
       "                                                                                                                                                                                                                                                                                                                                                                                                                                                                                                                                                                                                                  from_txt  \\\n",
       "0                                                                                                                                                                                                    Un-bleeping-believable! Meg Ryan doesn't even look her usual pert lovable self in this, which normally makes me forgive her shallow ticky acting schtick. Hard to believe she was the producer on this dog. Plus Kevin Kline: what kind of suicide trip has his career been on? Whoosh... Banzai!!! Finally this was directed by the guy who did Big Chill? Must be a replay of Jonestown - hollywood style. Wooofff!   \n",
       "1  This is a extremely well-made film. The acting, script and camera-work are all first-rate. The music is good, too, though it is mostly early in the film, when things are still relatively cheery. There are no really superstars in the cast, though several faces will be familiar. The entire cast does an excellent job with the script.<br /><br />But it is hard to watch, because there is no good end to a situation like the one presented. It is now fashionable to blame the British for setting Hindus and Muslims against each other, and then cruelly separating them into two countries. There is som...   \n",
       "2  Every once in a long while a movie will come along that will be so awful that I feel compelled to warn people. If I labor all my days and I can save but one soul from watching this movie, how great will be my joy.<br /><br />Where to begin my discussion of pain. For starters, there was a musical montage every five minutes. There was no character development. Every character was a stereotype. We had swearing guy, fat guy who eats donuts, goofy foreign guy, etc. The script felt as if it were being written as the movie was being shot. The production value was so incredibly low that it felt li...   \n",
       "3  Name just says it all. I watched this movie with my dad when it came out and having served in Korea he had great admiration for the man. The disappointing thing about this film is that it only concentrate on a short period of the man's life - interestingly enough the man's entire life would have made such an epic bio-pic that it is staggering to imagine the cost for production.<br /><br />Some posters elude to the flawed characteristics about the man, which are cheap shots. The theme of the movie \"Duty, Honor, Country\" are not just mere words blathered from the lips of a high-brassed offic...   \n",
       "4  This movie succeeds at being one of the most unique movies you've seen. However this comes from the fact that you can't make heads or tails of this mess. It almost seems as a series of challenges set up to determine whether or not you are willing to walk out of the movie and give up the money you just paid. If you don't want to feel slighted you'll sit through this horrible film and develop a real sense of pity for the actors involved, they've all seen better days, but then you realize they actually got paid quite a bit of money to do this and you'll lose pity for them just like you've alr...   \n",
       "\n",
       "                                                                                                                                                                                                                                                                                                                                                                                                                                                                                                                                                                                                                    to_txt  \n",
       "0                                                                                                                                                                                                    Un-bleeping-believable! Meg Ryan doesn't even look her usual pert lovable self in this, which normally makes me forgive her shallow ticky acting schtick. Hard to believe she was the producer on this dog. Plus Kevin Kline: what kind of suicide trip has his career been on? Whoosh... Banzai!!! Finally this was directed by the guy who did Big Chill? Must be a replay of Jonestown - hollywood style. Wooofff!  \n",
       "1  This is a extremely well-made film. The acting, script and camera-work are all first-rate. The music is good, too, though it is mostly early in the film, when things are still relatively cheery. There are no really superstars in the cast, though several faces will be familiar. The entire cast does an excellent job with the script.<br /><br />But it is hard to watch, because there is no good end to a situation like the one presented. It is now fashionable to blame the British for setting Hindus and Muslims against each other, and then cruelly separating them into two countries. There is som...  \n",
       "2  Every once in a long while a movie will come along that will be so awful that I feel compelled to warn people. If I labor all my days and I can save but one soul from watching this movie, how great will be my joy.<br /><br />Where to begin my discussion of pain. For starters, there was a musical montage every five minutes. There was no character development. Every character was a stereotype. We had swearing guy, fat guy who eats donuts, goofy foreign guy, etc. The script felt as if it were being written as the movie was being shot. The production value was so incredibly low that it felt li...  \n",
       "3  Name just says it all. I watched this movie with my dad when it came out and having served in Korea he had great admiration for the man. The disappointing thing about this film is that it only concentrate on a short period of the man's life - interestingly enough the man's entire life would have made such an epic bio-pic that it is staggering to imagine the cost for production.<br /><br />Some posters elude to the flawed characteristics about the man, which are cheap shots. The theme of the movie \"Duty, Honor, Country\" are not just mere words blathered from the lips of a high-brassed offic...  \n",
       "4  This movie succeeds at being one of the most unique movies you've seen. However this comes from the fact that you can't make heads or tails of this mess. It almost seems as a series of challenges set up to determine whether or not you are willing to walk out of the movie and give up the money you just paid. If you don't want to feel slighted you'll sit through this horrible film and develop a real sense of pity for the actors involved, they've all seen better days, but then you realize they actually got paid quite a bit of money to do this and you'll lose pity for them just like you've alr...  "
      ]
     },
     "execution_count": 2,
     "metadata": {},
     "output_type": "execute_result"
    }
   ],
   "source": [
    "path = untar_data(URLs.IMDB_SAMPLE)\n",
    "df = pd.read_csv(path/'texts.csv')\n",
    "df['from_txt'] = df['text']\n",
    "df['to_txt'] = df['text']\n",
    "df = df.drop(columns=['text','label'])\n",
    "df.head()"
   ]
  },
  {
   "cell_type": "code",
   "execution_count": 3,
   "metadata": {},
   "outputs": [],
   "source": [
    "texts_s2s = DataBlock(\n",
    "    \n",
    "    # blocks specify what type of data we are going to be loading.\n",
    "    # In this case both are text files contained in the same df\n",
    "    #blocks=(TextBlock.from_df('from_txt',is_lm=False),TextBlock.from_df('to_txt',is_lm=False)),\n",
    "    \n",
    "    # You can specify a tokenizer by passing in a tok variable. Comment the line above and ucomment the onces below.\n",
    "    blocks=(\n",
    "        TextBlock.from_df('from_txt', is_lm=False, tok=SubwordTokenizer(vocab_sz=200)),\n",
    "        TextBlock.from_df('to_txt'  , is_lm=False, tok=SubwordTokenizer(vocab_sz=200))),\n",
    "    \n",
    "\n",
    "    # The TestBlock tokenization process puts tokenized inputs into a column called text. \n",
    "    # The ColReader for get_x will always reference text, even if the original text inputs \n",
    "    # were in a column with another name in the dataframe.\n",
    "    get_x=ColReader('text'),\n",
    "    get_y=ColReader('text'),\n",
    "    \n",
    "    # The dataframe needs to have a is_valid column for this to work.\n",
    "    splitter=ColSplitter()\n",
    "\n",
    ")"
   ]
  },
  {
   "cell_type": "code",
   "execution_count": 4,
   "metadata": {},
   "outputs": [
    {
     "data": {
      "text/html": [],
      "text/plain": [
       "<IPython.core.display.HTML object>"
      ]
     },
     "metadata": {},
     "output_type": "display_data"
    },
    {
     "data": {
      "text/html": [],
      "text/plain": [
       "<IPython.core.display.HTML object>"
      ]
     },
     "metadata": {},
     "output_type": "display_data"
    },
    {
     "data": {
      "text/html": [],
      "text/plain": [
       "<IPython.core.display.HTML object>"
      ]
     },
     "metadata": {},
     "output_type": "display_data"
    },
    {
     "data": {
      "text/html": [],
      "text/plain": [
       "<IPython.core.display.HTML object>"
      ]
     },
     "metadata": {},
     "output_type": "display_data"
    },
    {
     "data": {
      "text/html": [
       "<table border=\"1\" class=\"dataframe\">\n",
       "  <thead>\n",
       "    <tr style=\"text-align: right;\">\n",
       "      <th></th>\n",
       "      <th>text</th>\n",
       "      <th>text_</th>\n",
       "    </tr>\n",
       "  </thead>\n",
       "  <tbody>\n",
       "    <tr>\n",
       "      <th>0</th>\n",
       "      <td>▁xxbos ▁xxmaj ▁ ra i s ing ▁xxmaj ▁ v ic t or ▁xxmaj ▁ v ar g a s : ▁a ▁xxmaj ▁re v i e w ▁xxmaj ▁you ▁ k n o w , ▁xxmaj ▁ ra i s ing ▁xxmaj ▁ v ic t or ▁xxmaj ▁ v ar g a s ▁is ▁like ▁ st i ck ing ▁you r ▁h an d s ▁in t o ▁a ▁ b i g , ▁ st e a m ing ▁bo w l ▁of ▁ o a t me al . ▁xxmaj ▁it ' s ▁w ar m ▁and ▁g o o e y , ▁but ▁you ' re ▁not ▁su re ▁ i f ▁it ▁ fe el s ▁ r ight . ▁xxmaj ▁tr y ▁as ▁ i ▁ m ight , ▁no ▁ma t ter ▁ ho w ▁w ar m ▁and ▁g o</td>\n",
       "      <td>▁xxbos ▁xxmaj ▁ ra i s ing ▁xxmaj ▁ v ic t or ▁xxmaj ▁ v ar g a s : ▁a ▁xxmaj ▁re v i e w ▁xxmaj ▁you ▁ k n o w , ▁xxmaj ▁ ra i s ing ▁xxmaj ▁ v ic t or ▁xxmaj ▁ v ar g a s ▁is ▁like ▁ st i ck ing ▁you r ▁h an d s ▁in t o ▁a ▁ b i g , ▁ st e a m ing ▁bo w l ▁of ▁ o a t me al . ▁xxmaj ▁it ' s ▁w ar m ▁and ▁g o o e y , ▁but ▁you ' re ▁not ▁su re ▁ i f ▁it ▁ fe el s ▁ r ight . ▁xxmaj ▁tr y ▁as ▁ i ▁ m ight , ▁no ▁ma t ter ▁ ho w ▁w ar m ▁and ▁g o o e y ▁xxmaj ▁ ra i s ing ▁xxmaj ▁ v ic t or ▁xxmaj ▁ v ar g a s ▁be ca me ▁ i ▁was ▁ al w a y s ▁a w a re ▁that ▁some th ing ▁ d i d n ' t ▁ q u i te ▁ fe el ▁ r ight . ▁xxmaj ▁ v ic t or ▁xxmaj ▁ v ar g a s ▁su f f er s ▁from ▁a ▁c er t a in ▁ o v er c on f i d en ce ▁on ▁the ▁ d i re c t or ' s ▁p ar t . ▁xxmaj ▁a pp ar ent ly , ▁the ▁ d i re c t or ▁ th o u g h t ▁that ▁the ▁ e th n ic ▁ba ck d ro p ▁of ▁a ▁xxmaj ▁ la t in o ▁f a m i ly ▁on ▁the ▁ lo w er ▁ e a st ▁ s i de , ▁and ▁ an ▁ i d y ll ic ▁ st or y li ne ▁w o ul d ▁ma k e ▁the ▁film ▁c ri t ic ▁pro o f . ▁xxmaj ▁he ▁was ▁ r ight , ▁but ▁it ▁ d i d n ' t ▁f o ol ▁ me . ▁xxmaj ▁ ra i s ing ▁xxmaj ▁ v ic t or ▁xxmaj ▁ v ar g a s ▁is ▁the ▁ st or y ▁a b o u t ▁a ▁ se v ent e en - y e ar ▁ ol d ▁bo y ▁ ca ll ed , ▁you ▁g u es s ed ▁it , ▁xxmaj ▁ v ic t or ▁xxmaj ▁ v ar g a s ▁( v ic t or ▁xxmaj ▁ ra s u k ) ▁who ▁ li ve s ▁his ▁ te en a ge ▁ y e ar s ▁ ch a s ing ▁mo re ▁ s k i r t ▁ th an ▁the ▁xxmaj ▁ ro ll ing ▁xxmaj ▁ st on es ▁co ul d ▁do ▁in ▁all ▁the ▁ y e ar s ▁the y ' ve ▁to ur ed . ▁xxmaj ▁the ▁movie ▁ st ar t s ▁of f ▁in ▁ ` u g ly ▁xxmaj ▁f a t ' ▁xxmaj ▁do n n a ' s ▁be d ro o m ▁w h er e ▁xxmaj ▁ v ic t or ▁is ▁su re ▁to ▁ s ed u ce ▁her , ▁but ▁a ▁c r y ▁from ▁out s i de ▁ d i s r u p t s ▁his ▁p la n s ▁w h en ▁his ▁be st - f ri en d ▁xxmaj ▁h ar ol d ▁( k e v in ▁xxmaj ▁ ri ve ra ) ▁ com es - a - lo o k ing ▁for ▁h i m . ▁xxmaj ▁ ca u g h t ▁in ▁the ▁a t te mp t ▁by ▁xxmaj ▁h ar ol d ▁and ▁his ▁ s i s ter , ▁xxmaj ▁ v ic t or ▁xxmaj ▁ v ar g a s ▁ r un s ▁of f ▁for ▁ d a m a ge ▁con t r ol . ▁xxmaj ▁ y e t ▁ e ve n ▁with ▁the ▁ e m b ar ra s s ing ▁ i mp li ca t i on ▁that ▁he ' s ▁be en ▁bo f f ing ▁the ▁ ho me li e st ▁g i r l ▁in ▁the ▁ ne i g h b or ho o d , ▁not h ing ▁ d i s s u a d es ▁you n g ▁xxmaj ▁ v ic t or ▁from ▁g o ing ▁of f ▁on ▁the ▁h un t ▁for ▁mo re ▁f re sh ▁ me a t . ▁xxmaj ▁on ▁a ▁ ho t , ▁xxmaj ▁ ne w ▁xxmaj ▁ y or k ▁xxmaj ▁c it y ▁ d a y ▁the y ▁ma k e ▁w a y ▁to ▁the ▁ lo c al ▁p u b li c ▁ s w i m m ing ▁p o ol ▁w h er e ▁xxmaj ▁ v ic t or ' s ▁ e y es ▁ ca t ch ▁a ▁g li mp se ▁of ▁the ▁ lo ve ly ▁you n g ▁ n y mp h ▁xxmaj ▁ j u d y ▁( j u d y ▁xxmaj ▁ma r te ) , ▁who ' s ▁not ▁ j u st ▁p re t t y , ▁but ▁a ▁ st r on g ▁and ▁in de p en d ent ▁to o . ▁xxmaj ▁the ▁re la t i on sh i p ▁that ▁de ve lo p s ▁be t w e en ▁xxmaj ▁ v ic t or ▁and ▁xxmaj ▁ j u d y ▁be com es ▁the ▁f o c u s ▁of ▁the ▁film . ▁xxmaj ▁the ▁ st or y ▁ al s o ▁f o c u s es ▁on ▁xxmaj ▁ v ic t or ' s ▁f a m i ly ▁that ▁is ▁co mp ri s ed ▁of ▁his ▁g r an d m o th er ▁ or ▁a b u el it a ▁( al t a g ra c i a ▁xxmaj ▁g u z man ) , ▁his ▁ b ro th er ▁xxmaj ▁ n in o ▁( al s o ▁p la y ed ▁by ▁re al ▁ li fe ▁ b ro th er ▁to ▁xxmaj ▁ v ic t or , ▁xxmaj ▁ s il ve st re ▁xxmaj ▁ ra s u k ) ▁and ▁his ▁ s i s ter ▁xxmaj ▁ v i ck y ▁( k r y st al ▁xxmaj ▁ ro d ri g u e z ) . ▁xxmaj ▁the ▁ act i on ▁f ol lo w s ▁xxmaj ▁ v ic t or ▁be t w e en ▁ s ce ne s ▁with ▁xxmaj ▁ j u d y ▁and ▁ s ce ne s ▁with ▁his ▁f a m i ly . ▁xxmaj ▁ v ic t or ▁tr i es ▁to ▁co p e ▁with ▁be ing ▁ an ▁ o v er se x ed ▁p i mp - d a d d y , ▁his ▁ fe el ing s ▁for ▁xxmaj ▁ j u d y ▁and ▁his ▁g r an d m o th er ' s ▁con s er v a t i ve ▁xxmaj ▁ ca th ol ic ▁ u p b r ing ing . ▁xxmaj ▁the ▁pro b le m s ▁that ▁a ri se ▁from ▁xxmaj ▁ ra i s ing ▁xxmaj ▁ v ic t or ▁xxmaj ▁ v ar g a s ▁are ▁a ▁ fe w , ▁but ▁g la r ing ▁ er r or s . ▁xxmaj ▁ th ro u g ho u t ▁the ▁film ▁you ▁ ge t ▁to ▁ k n o w ▁c er t a in ▁ ch ar act er s ▁like ▁xxmaj ▁ v i ck y , ▁xxmaj ▁ n in o , ▁xxmaj ▁g r an d m a , ▁xxmaj ▁ j u d y ▁and ▁ e ve n ▁xxmaj ▁ j u d y ' s ▁be st ▁f ri en d ▁xxmaj ▁ m el on i e . ▁xxmaj ▁the ▁pro b le m ▁is , ▁w e ▁ k n o w ▁not h ing ▁of ▁xxmaj ▁ v ic t or ▁xxmaj ▁ v ar g a s ▁ex ce p t ▁that ▁he ▁is ▁the ▁ b i g ge st ▁g i g o lo ▁in ▁the ▁ ne i g h b or ho o d . ▁xxmaj ▁w e ▁ k n o w ▁that ▁he ▁ k n o w s ▁ ho w ▁to ▁ li ck ▁his ▁ li p s , ▁and ▁ com b ▁his ▁f ro , ▁and ▁c ar r y ▁h i m s el f ▁for ▁the ▁sa k e ▁of ▁w o o ing ▁g i r l s ▁in t o ▁the ▁sa ck , ▁but ▁that ' s ▁all . ▁xxmaj ▁w e ▁ k n o w ▁that ▁xxmaj ▁ n in o ▁p la y s ▁p i an o , ▁and ▁ q u i e t ▁w e ll , ▁you ▁co ul d ▁see ▁it ▁by ▁the ▁a w ar d s ▁on ▁the ▁f a m i ly ▁p i an o . ▁xxmaj ▁w e ▁ k n o w ▁his ▁ s i s ter ▁xxmaj ▁ n i ck i , ▁is ▁a ▁g o s s i p - lo v ing ▁g i r l ▁with ▁ an ▁in ve st ed ▁in ter e st ▁in ▁w a t ch ing ▁xxup ▁ t v . ▁xxmaj ▁w e ▁ k n o w ▁that ▁g r an d m a ▁is ▁a ▁h ar d - w or k ing ▁tr a d it i on al ▁xxmaj ▁ la t in a ▁w o man ▁who ' s ▁tr y ing ▁to ▁ ra i se ▁her ▁ k i d s ▁with ▁con s er v a t i ve ly ▁in ▁a ▁w or l d ▁of ▁ex ce s s ▁c or r u p t i on . ▁xxmaj ▁ y e t ▁w h er e ▁is ▁the ▁ t it ul ar ▁ ch ar act er , ▁xxmaj ▁ v ic t or ▁xxmaj ▁ v ar g a s ? ▁xxmaj ▁he ' s ▁in ▁this ▁movie ▁some w h er e , ▁but ▁w e ▁on ly ▁ k n o w ▁w h a t ▁the ▁movie ▁ te ll s ▁ u s . ▁xxmaj ▁this ▁is ▁by ▁f ar ▁the ▁film ' s ▁ b i g ge st ▁f la w . ▁xxmaj ▁ v ic t or ▁xxmaj ▁ v ar g a s ▁is n ' t ▁so ▁ m u ch ▁a ▁ ch ar act er ▁but ▁a ▁p ing - p on g ▁ba ll , ▁bo un c ing ▁be t w e en ▁ s ce ne s ▁with ▁xxmaj ▁ j u d y ▁and ▁his ▁xxmaj ▁g r an d m o th er , ▁but ▁w e ▁ ne v er ▁ ge t ▁to ▁ k n o w ▁who ▁xxmaj ▁ v ic t or ▁xxmaj ▁ v ar g a s ▁re al ly ▁is . ▁xxmaj ▁this ▁is ▁ i mp or t an t ▁be ca u se ▁as ▁xxmaj ▁ i ' ve ▁ m ent i on ed ▁the ▁on ly ▁ th ing ▁w e ▁ k n o w ▁of ▁xxmaj ▁ v ic t or ▁xxmaj ▁ v ar g a s ▁is ▁that ▁he ' s ▁a ▁ se x u al ly ▁ act i ve ▁ te en a g er ▁with ▁a ▁ li b i d o ▁the ▁ s i z e ▁of ▁xxmaj ▁ man h a t t an . ▁xxmaj ▁he ' s ▁a ▁to t al ▁xxmaj ▁ al p h a - m al e . ▁xxmaj ▁ v ic t or ▁xxmaj ▁ v ar g a s ▁is ▁not ▁the ▁ k in d ▁of ▁ ch ar act er ▁ i ▁ s y mp a th i z e ▁with ▁a t ▁all . ▁xxmaj ▁w h y ▁ s ho ul d ▁ an y on e ? ▁xxmaj ▁so ▁by ▁the ▁ en d ▁of ▁the ▁movie , ▁in ▁the ▁a f ter m a th ▁of ▁the ▁c li m a x ▁are ▁w e ▁tr u ly ▁ le d ▁to ▁be li e ve ▁that ▁some ho w ▁xxmaj ▁ v ic t or ▁xxmaj ▁ v ar g a s ▁h a s ▁a t t a in ed ▁xxup ▁ an y ▁de p th ▁and ▁ le ar ne d ▁the ▁ er r or s ▁of ▁his ▁w a y s ? ▁xxmaj ▁ ho w ▁co ul d ▁su ch ▁a ▁ t w o - d i m en s i on al ▁ ch ar act er ▁have ▁ an y ▁de p th ? ▁xxmaj ▁ i f ▁on ly ▁the ▁ d i re c t or ▁h a d ▁w or ri ed ▁a ▁ li t t le ▁mo re ▁a b o u t ▁f le sh ing ▁out ▁his ▁ma in ▁ ch ar act er ▁in st e a d ▁of ▁w or r y ing ▁a b o u t ▁ ge t t ing ▁that ▁p er fe c t ▁h an d - h el d ▁ s ho t . ▁xxmaj ▁ ra i s ing ▁xxmaj ▁ v ic t or ▁xxmaj ▁ v ar g a s ▁ b r ing s ▁to ▁ li fe ▁the ▁w or l d ▁of ▁the ▁xxmaj ▁ la t in o ▁in n er - c it y ▁ ne i g h b or ho o d ▁to ▁the ▁ b i g ▁ s c re en . ▁xxmaj ▁some th ing ▁that ▁ fe w ▁film s ▁have ▁do ne ▁be f or e ▁in ▁the ▁p a st . ▁xxmaj ▁the ▁film ▁h a s ▁be en ▁co mp li m ent ed ▁for ▁ fe el ing ▁so ▁re al , ▁and ▁ i ▁w on ' t ▁ ar g u e ▁with ▁that . ▁ i ▁have n ' t ▁see n ▁this ▁ le ve l ▁of ▁re al it y ▁ s in ce ▁xxup ▁c b s ▁a i re d ▁xxmaj ▁ s ur v i v or . ▁xxmaj ▁ s er i ous ly , ▁ al th o u g h ▁the ▁movie ▁h a s ▁some ▁ n i ce ▁ s ho t s ▁of ▁the ▁c it y , ▁the ▁w ri ter ▁ / ▁ d i re c t or ▁xxmaj ▁p e ter ▁xxmaj ▁so ll e t t ▁was ▁w a y ▁to o ▁de p en d ent ▁on ▁c lo se - u p s ▁and ▁h an d - h el d ▁ s ho t s . ▁xxmaj ▁this ▁pro b le m ▁is ▁p ar t ic ul ar ly ▁not ic ed ▁in ▁in d o or ▁ s ce ne s ▁that ▁are ▁so ▁c la u st ro p ho b ic ▁ i ▁was ▁for ce d ▁to ▁p er f or m ▁de e p - b re a th ing ▁ex er c i s es ▁to ▁ k e e p ▁from ▁p a s s ing ▁out . ▁xxmaj ▁as ▁the ▁film ▁con t in u es , ▁the ▁ s ho t s ▁ ge t ▁ t ight er ▁and ▁ t ight er ▁with ▁f a ce s ▁c ro pp ed ▁from ▁ b ro w ▁to ▁ ch in ▁on ▁the ▁ s c re en ; ▁you ▁c an ▁p r act ic al ly ▁ s me ll ▁xxmaj ▁ v ic t or ▁xxmaj ▁ v ar g a s ' s ▁ ch e a p ▁co lo g ne . ▁xxmaj ▁the ▁ o ve ra ll ▁ e f fe c t ▁is ▁ un re al i st ic ▁in ▁con t ra st . ▁xxmaj ▁the ▁in d o or ▁ s ce ne s ▁of ▁in n er - c it y ▁a p ar t m ent s ▁ma k e ▁the m ▁ lo o k ▁ s m a ll ▁and ▁c ra mp , ▁w h i ch ▁is ▁not ▁tr u e . ▁xxmaj ▁ i ' ve ▁be en ▁in ▁ th o se ▁ t y p e ▁a p ar t m ent s ; ▁ i ▁ u s ed ▁to ▁ li ve ▁in ▁one . ▁xxmaj ▁the y ' re ▁not ▁ s p le n d or ous ▁but ▁the y ▁have ▁h i g h ▁ ce il ing s ▁and ▁the y ' re ▁de c ent ▁ li v ing ▁ s p a ce s . ▁xxmaj ▁by ▁the ▁movie ' s ▁ st an d ar d s ▁you ' d ▁ th in k ▁that ▁the se ▁a p ar t m ent s ▁w er e ▁ 5 x 5 ▁ ce ll s ▁of ▁ b ri ck - an d - m or t ar , ▁ ch i pp ed ▁p a in t ▁and ▁c ra ck ed ▁w a ll s . ▁xxmaj ▁ un f or t un a te ly , ▁xxmaj ▁so ll e t t ' s ▁con st an t ▁ u se ▁of ▁c lo se - u p s ▁and ▁one ▁p ar t ic ul ar ly ▁ba d ▁ s ho t ▁with ▁a ▁ z o o m - in ▁on ▁one ▁ s ce ne ▁co me ▁of f ▁as ▁to t al ly ▁a m a te ur i sh . ▁xxmaj ▁but ▁xxmaj ▁ ra i s ing ▁xxmaj ▁ v ic t or ▁xxmaj ▁ v ar g a s ▁is ▁on ly ▁xxmaj ▁so ll e t t ' s ▁ se c on d ▁film , ▁and ▁his ▁mo st ▁w e ll ▁ k n o w n , ▁a ▁so li d ▁ e f f or t ▁in ▁film m a k ing ▁that ▁w i ll ▁ ho p e f ul ly ▁ ge t ▁be t ter ▁as ▁he ▁con t in u es ▁to ▁ma k e ▁film s . ▁xxmaj ▁one ▁re v i e w ▁ i ▁re a d ▁su m m ar i z ed ▁the ▁movie ▁as , ▁ ` e th n ic it y ▁for ▁xxmaj ▁ e th n ic it y ' s ▁xxmaj ▁sa k e , ' ▁and ▁ i ▁c an n o t ▁a g re e ▁mo re . ▁xxmaj ▁ i f ▁xxmaj ▁ v ic t or ▁xxmaj ▁ v ar g a s ▁w er e ▁tr u ly ▁a ▁g re a t ▁film ▁and ▁ st or y , ▁the n ▁the ▁ ch ar act er s ' ▁a pp li ca b il it y ▁w o ul d n ' t ▁ma t ter ▁w h e th er ▁the y ▁w er e ▁xxmaj ▁ la t in o , ▁xxmaj ▁ ch in es e , ▁ e t c . ▁xxmaj ▁ y e t ▁ i f ▁you ▁w er e ▁to ▁ t a k e ▁this ▁ st or y ▁and ▁ st i ck ▁it ▁in ▁ m i d d le - c la s s ▁su b ur b i a ▁with ▁a ▁ b un ch ▁of ▁ te en y - b o pp er ▁w h i te ▁ k i d s ▁the ▁re s ul t s ▁w o ul d n ' t ▁be ▁su ch ▁g lo w ing ▁re v i e w s , ▁and ▁w e ' d ▁see ▁the ▁film ' s ▁f la w s ▁mo re ▁c le ar ly . ▁xxmaj ▁in de ed , ▁some ▁ o th er ▁as p e c t s ▁of ▁the ▁ u se ▁of ▁xxmaj ▁ la t in o s ▁in ▁this ▁film ▁bo th er ▁ me . ▁xxmaj ▁w h i le ▁some ▁as p e c t s ▁of ▁xxmaj ▁ v ic t or ▁xxmaj ▁ v ar g a s ▁are ▁a c c ur a te ▁ o th er s ▁ i ▁have ▁to ▁ q u e st i on . ▁xxmaj ▁for ▁ex a mp le , ▁xxmaj ▁ v ic t or , ▁xxmaj ▁ n in o ▁and ▁xxmaj ▁ v i ck y ▁all ▁ sh a re ▁the ▁sa me ▁ ro o m ▁to ▁ s le e p . ▁xxmaj ▁this ▁ se t ▁of f ▁ an ▁ al ar m ▁for ▁ me ▁be ca u se ▁it ▁see m ed ▁con t r ar y ▁to ▁w h a t ▁ i ▁be li e ve . ▁xxmaj ▁ an y ▁ s el f - re s p e c t ing ▁xxmaj ▁ la t in o ▁f a m i ly ▁w o ul d n ' t ▁have ▁ t w o ▁ ol d er ▁ b ro th er s ▁ sh ar ing ▁the ▁sa me ▁ ro o m ▁with ▁a ▁ th i r te en - y e ar ▁ ol d ▁g i r l . ▁xxmaj ▁a t ▁f i r st ▁ i ▁was ▁ un s u re , ▁p er h a p s ▁ i ▁was ▁w r on g , ▁but ▁a f ter ▁ s p e a k ing ▁with ▁ m y ▁g r an d m o th er ▁ i ▁ k ne w ▁ m y ▁pro b le m ▁with ▁this ▁was ▁ j u st i f i ed . ▁xxmaj ▁con s i d er ing ▁ ho w ▁con s er v a t i ve ▁the ▁g r an d m o th er ▁is , ▁you ' d ▁ th in k ▁that ▁xxmaj ▁ v i ck y ▁w o ul d ▁have ▁be en ▁ s le e p ing ▁in ▁her ▁ ro o m . ▁xxmaj ▁as ▁a ▁xxmaj ▁ la t in o ▁who ▁g re w ▁ u p ▁in ▁a ▁some w h a t ▁con s er v a t i ve ▁xxmaj ▁c u b an ▁h ous e ho l d , ▁ ra i s ed ▁by ▁ m y ▁g r an d m o th er ▁w h i le ▁ m y ▁mo th er ▁was ▁w or k ing ▁f u ll - t i me , ▁ i ▁co ul d ▁re la te ▁to ▁the ▁movie ▁in ▁ man y ▁w a y s , ▁w h i ch ▁is ▁w h y ▁ m y ▁c ri t ic al ▁ v i e w p o in t s ▁are ▁ b it ter s w e e t ▁be ca u se ▁ i ▁re al ly ▁w an t ed ▁to ▁ lo ve ▁this ▁movie . ▁xxmaj ▁ un f or t un a te ly , ▁ m y ▁ la ck ▁of ▁re s p e c t ▁for ▁xxmaj ▁ v ic t or ▁xxmaj ▁ v ar g a s ▁sa b o t a ge d ▁ m y ▁ fe el ing s ▁for ▁the ▁film . ▁xxmaj ▁ma y b e ▁it ' s ▁be ca u se ▁xxmaj ▁ v ic t or ▁xxmaj ▁ v ar g a s ▁re m in d s ▁ me ▁of ▁ th o se ▁g u y s ▁who ▁w er e ▁ ge t t ing ▁ la i d ▁w h i le ▁ i ▁was ▁p la y ing ▁with ▁ m y ▁xxmaj ▁ se g a ▁xxmaj ▁g en es i s ▁w h en ▁ i ▁was ▁ se v ent e en . ▁xxmaj ▁ma y b e ▁it ' s ▁be ca u se ▁with o u t ▁ an y ▁f ur th er ▁in t ro s p e c t i on ▁by ▁the ▁film , ▁xxmaj ▁ v ic t or ▁xxmaj ▁ v ar g a s ▁is ▁ me re ly ▁a ▁ s ter e o t y p ic al ▁ ho t - b lo o d ed ▁xxmaj ▁ la t in o , ▁who ' ll ▁ j u st ▁ en d ▁ u p ▁ s ho u t ing ▁to ▁g i r l s ▁from ▁his ▁c ar , ▁ ` h e y ▁ba y - b e e , ▁ j u ▁w an t ▁to ▁ ge t ▁in t o ▁ m y ▁ l u v ▁ma h - ch e en ? ' ▁xxmaj ▁ e i th er ▁w a y ▁ i ▁do n ' t ▁like ▁h i m , ▁so ▁ ul t i m a te ly ▁ ho w ▁c an ▁ i ▁like ▁a ▁film ▁a b o u t ▁h i m ? ▁xxmaj ▁so ▁ i f ▁you ' ll ▁ex c u se ▁ me , ▁xxmaj ▁ i ' m ▁g o ing ▁to ▁g o ▁ st i ck ▁ m y ▁h an d s ▁in t o ▁a ▁bo w l ▁of ▁g ri t s .</td>\n",
       "    </tr>\n",
       "    <tr>\n",
       "      <th>1</th>\n",
       "      <td>▁xxbos ▁xxmaj ▁the ▁ y e ar ▁ 2 0 0 5 ▁sa w ▁no ▁ fe w er ▁ th an ▁ 3 ▁film ed ▁pro d u c t i on s ▁of ▁xxup ▁h . ▁xxup ▁g . ▁xxmaj ▁w e ll s ' ▁g re a t ▁no ve l , ▁ \" w ar ▁of ▁the ▁xxmaj ▁w or l d s \" . ▁xxmaj ▁this ▁is ▁p er h a p s ▁the ▁ le a st ▁w e ll - k n o w n ▁and ▁ v er y ▁pro b a b ly ▁the ▁be st ▁of ▁the m . ▁xxmaj ▁no ▁ o th er ▁ v er s i on ▁of ▁w o t w ▁h a s ▁ e v er ▁a t te mp t ed ▁not ▁on ly ▁to ▁p re s ent ▁the ▁ st</td>\n",
       "      <td>▁xxbos ▁xxmaj ▁the ▁ y e ar ▁ 2 0 0 5 ▁sa w ▁no ▁ fe w er ▁ th an ▁ 3 ▁film ed ▁pro d u c t i on s ▁of ▁xxup ▁h . ▁xxup ▁g . ▁xxmaj ▁w e ll s ' ▁g re a t ▁no ve l , ▁ \" w ar ▁of ▁the ▁xxmaj ▁w or l d s \" . ▁xxmaj ▁this ▁is ▁p er h a p s ▁the ▁ le a st ▁w e ll - k n o w n ▁and ▁ v er y ▁pro b a b ly ▁the ▁be st ▁of ▁the m . ▁xxmaj ▁no ▁ o th er ▁ v er s i on ▁of ▁w o t w ▁h a s ▁ e v er ▁a t te mp t ed ▁not ▁on ly ▁to ▁p re s ent ▁the ▁ st or y ▁ v er y ▁ m u ch ▁as ▁xxmaj ▁w e ll s ▁w ro te ▁it , ▁but ▁ al s o ▁to ▁c re a te ▁the ▁a t m o s p h er e ▁of ▁the ▁ t i me ▁in ▁w h i ch ▁it ▁was ▁su pp o s ed ▁to ▁ t a k e ▁p la ce : ▁the ▁ la st ▁ y e ar ▁of ▁the ▁ 1 9 th ▁xxmaj ▁c ent ur y , ▁ 1 9 0 0 ▁ ",
       " ▁ u s ing ▁xxmaj ▁w e ll s ' ▁ or i g in al ▁ se t t ing , ▁in ▁and ▁ ne ar ▁xxmaj ▁w o k ing , ▁xxmaj ▁ en g la n d . ▁ i m d b ▁see m s ▁ un f ri en d ly ▁to ▁w h a t ▁the y ▁re g ar d ▁as ▁ \" s p o il er s \" . ▁xxmaj ▁that ▁ m ight ▁a pp ly ▁with ▁some ▁film s , ▁w h er e ▁the ▁ en d ing ▁ m ight ▁ act u al ly ▁be ▁a ▁ s ur p ri se , ▁but ▁with ▁re g ar d ▁to ▁one ▁of ▁the ▁mo st ▁f a m ous ▁no ve l s ▁in ▁the ▁w or l d , ▁it ▁see m s ▁p o s it i ve ly ▁ s il ly . ▁ i ▁have ▁no ▁ s y mp a th y ▁for ▁p e o p le ▁who ▁have ▁ ne g le c t ed ▁to ▁re a d ▁one ▁of ▁the ▁ se m in al ▁w or k s ▁in ▁xxmaj ▁ en g li sh ▁ li ter a t u re , ▁so ▁ le t ' s ▁ ge t ▁ r ight ▁to ▁the ▁ ch a se . ▁xxmaj ▁the ▁a li en s ▁are ▁de st ro y ed ▁ th ro u g h ▁ ca t ch ing ▁ an ▁xxmaj ▁ e ar th ▁ d i se a se , ▁a g a in st ▁w h i ch ▁the y ▁have ▁no ▁ i m m un it y . ▁xxmaj ▁ i f ▁that ' s ▁a ▁ s p o il er , ▁so ▁be ▁it ; ▁a f ter ▁a ▁bo o k ▁and ▁ 3 ▁ o th er ▁film s ▁( in c l u d ing ▁the ▁ 1 9 5 3 ▁c la s s ic ) , ▁you ▁ o u g h t ▁to ▁ k n o w ▁ ho w ▁this ▁ en d s . ▁xxmaj ▁this ▁film , ▁w h i ch ▁f ol lo w s ▁xxmaj ▁w e ll s ' ▁p lo t ▁in ▁the ▁ma in , ▁is ▁ al s o ▁ v er y ▁c le v er ly ▁p re s ent ed ▁  ▁in ▁a ▁w a y ▁that ▁ m ight ▁p u t ▁ man y ▁ v i e w er s ▁of f ▁ d u e ▁to ▁the i r ▁ i g n or an ce ▁of ▁ la te ▁ 1 9 th ▁ / ▁ e ar ly ▁ 2 0 th ▁xxmaj ▁c ent ur y ▁p ho t o g ra p h y . ▁xxmaj ▁ al th o u g h ▁film ed ▁in ▁a ▁w i d es c re en ▁as p e c t , ▁the ▁film ▁g o es ▁to ▁some ▁ le n g th s ▁to ▁g i ve ▁ an ▁ i mp re s s i on ▁of ▁con te mp or an e it y . ▁xxmaj ▁the ▁g en er al ▁co lo ra t i on ▁of ▁ s k in ▁and ▁c lo th es ▁ d i s p la y ▁a ▁ se p i a ▁ t in t ▁of t en ▁f o un d ▁in ▁ ol d ▁p ho t o g ra p h s ▁( ra th er ▁ th an ▁ b la ck ) . ▁xxmaj ▁co lo r s ▁are ▁of t en ▁re m in i s c ent ▁of ▁h an d - t in t ing . ▁xxmaj ▁a t ▁ o th er ▁ t i me s , ▁co lo r s ▁are ▁was h ed ▁out . ▁xxmaj ▁the se ▁ v ar i a t i on s ▁are ▁ t y p ic al ▁of ▁ e ar ly ▁film s , ▁w h i ch ▁ d i d n ' t ▁ u se ▁ st an d ar d i z ed ▁ ce ll u lo i d ▁ st o ck ▁and ▁the re f or e ▁p re s ent ed ▁a ▁g o o d ▁ man y ▁ ch an ge s ▁in ▁p r in t ▁ q u al it y , ▁ e ve n ▁g o ing ▁from ▁ b la ck ▁ / ▁w h i te ▁to ▁ se p i a ▁ / ▁w h i te ▁to ▁ b l u e ▁ / ▁w h i te ▁to ▁re d d i sh ▁ / ▁w h i te ▁and ▁so ▁on ▁  ▁as ▁you ' ll ▁see ▁on ▁ o c ca s i on ▁her e . ▁xxmaj ▁the ▁ s p e c i al ▁ e f fe c t s ▁are ▁de li b er a te ly ▁re t ro g ra de , ▁of ▁a ▁ s or t ▁see n ▁ e ve n ▁as ▁ la te ▁as ▁the ▁ 1 9 2 0 s ▁  ▁and ▁ y e t ▁the ▁xxmaj ▁ma r t i an s ▁and ▁the i r ▁ma ch in es ▁are ▁ v er y ▁ m u ch ▁as ▁xxmaj ▁w e ll s ▁de s c ri b ed ▁the m ▁and ▁have ▁a ▁mo re ▁ ne ar ly ▁re al i st ic ▁ \" fe el \" . ▁xxmaj ▁some ▁of ▁ e f fe c t s ▁are ▁re al ly ▁a w k w ar d ▁  ▁su ch ▁as ▁the ▁de st r u c t i on ▁of ▁xxmaj ▁ b i g ▁xxmaj ▁be n . ▁xxmaj ▁the ▁ act ing ▁is ▁of t en ▁mo re ▁in ▁the ▁ st y le ▁of ▁that ▁p er i o d ▁ th an ▁ o ur s . ▁xxmaj ▁some ▁as p e c t s ▁of ▁xxmaj ▁ v ic t or i an ▁ d re s s ▁ma y ▁a pp e ar ▁ o d d , ▁p ar t ic ul ar ly ▁the ▁ u se ▁of ▁p o m a de ▁ or ▁ b ri ll i an t in e ▁on ▁he a d ▁and ▁f a c i al ▁h a i r . ▁xxmaj ▁this ▁film ▁is ▁the ▁on ly ▁one ▁that ▁f ol lo w s ▁with ▁some ▁c lo s en es s ▁xxmaj ▁w e ll s ' ▁ or i g in al ▁ n ar ra t i ve ▁  ▁as ▁h a s ▁be en ▁not ed . ▁xxmaj ▁ v i e w er s ▁ma y ▁f in d ▁it ▁in f or m a t i ve ▁to ▁not e ▁p lo t ▁de t a il s ▁that ▁a pp e ar ▁her e ▁that ▁are ▁ o c ca s i on al ly ▁re t a in ed ▁in ▁ o th er ▁ v er s i on s ▁of ▁the ▁ st or y . ▁xxmaj ▁w e ll s ' ▁de s c ri p t i on ▁of ▁the ▁xxmaj ▁ma r t i an s ▁  ▁a ▁g i an t ▁he a d ▁mo un t ed ▁on ▁ n u m er ous ▁ t ent a c le s ▁  ▁is ▁ e f fe c t i ve ly ▁p or t ra y ed . ▁xxmaj ▁w h en ▁the ▁xxmaj ▁ma r t i an ▁ma ch in es ▁a pp e ar , ▁a b o u t ▁ an ▁ ho ur ▁in t o ▁the ▁film , ▁the y ▁to o ▁g i ve ▁a ▁g o o d ▁ i mp re s s i on ▁of ▁ ho w ▁xxmaj ▁w e ll s ▁de s c ri b ed ▁the m . ▁xxmaj ▁bo th ▁xxmaj ▁w e ll s ▁and ▁this ▁film ▁do ▁ an ▁ex ce ll ent ▁ j o b ▁of ▁p or t ra y ing ▁the ▁pro g re s s ▁of ▁the ▁xxmaj ▁ma r t i an s ▁from ▁the ▁ li m it ed ▁p er s p e c t i ve ▁( p ri m ar i ly ) ▁of ▁ r ur al ▁xxmaj ▁ en g la n d ▁  ▁p l u s ▁a ▁ fe w ▁ s ce ne s ▁in ▁xxmaj ▁ lo n d on ▁( in v ol v ing ▁the ▁xxmaj ▁ n ar ra t or ' s ▁ b ro th er ) . ▁xxmaj ▁the ▁ d i re c t or ▁is ▁ un a b le ▁to ▁re s i st ▁ s ho w ing ▁the ▁de st r u c t i on ▁of ▁a ▁ma j or ▁ la n d m ar k ▁( b i g ▁xxmaj ▁be n ) , ▁but ▁a t ▁ le a st ▁do es n ' t ▁ d w e ll ▁ un d u ly ▁on ▁the ▁de v a st a t i on ▁of ▁xxmaj ▁ lo n d on . ▁xxmaj ▁the ▁ v ic t or y ▁of ▁the ▁xxmaj ▁ma r t i an s ▁is ▁h ar d ly ▁a ▁ s ur p ri se , ▁de s p i te ▁the ▁de st r u c t i on ▁by ▁c an n on ▁of ▁some ▁of ▁the i r ▁ma ch in es . ▁xxmaj ▁the ▁xxmaj ▁ n ar ra t or , ▁tr a ve l ing ▁a b o u t ▁to ▁see k ▁ es ca p e , ▁see s ▁ m u ch ▁of ▁w h a t ▁xxmaj ▁w e ll s ▁ ter m s ▁ \" th e ▁ ro u t ▁of ▁xxmaj ▁ man k in d \" . ▁xxmaj ▁he ▁ en c o un ter s ▁a ▁c ur a te ▁ en d o w ed ▁with ▁the ▁xxmaj ▁ v ic t or i an ▁a f f li c t i on ▁of ▁a ▁ m u ch ▁to o ▁p re c i ous ▁and ▁ n er v ous ▁p er s on al it y . ▁xxmaj ▁the y ▁ e v ent u al ly ▁f in d ▁the m s el ve s ▁on ▁the ▁ v er y ▁ ed ge ▁of ▁a ▁xxmaj ▁ma r t i an ▁ ne st , ▁w h er e ▁the y ▁ d i s c o v er ▁ an ▁a w f ul ▁f act : ▁the ▁xxmaj ▁ma r t i an s ▁are ▁ s ho w n ▁to ▁be ▁ v a mp i re s ▁who ▁con s u me ▁the i r ▁p re y ▁a li ve ▁in ▁a ▁ v er y ▁ e f fe c t i ve ▁ s ce ne . ▁xxmaj ▁w e ll s ▁a d d s ▁that ▁a f ter ▁ e a t ing ▁the y ▁ se t ▁ u p ▁ \" a ▁pro lo n ge d ▁and ▁ ch e er f ul ▁ ho o t ing \" . ▁xxmaj ▁the ▁xxmaj ▁ n ar ra t or ▁f in al ly ▁is ▁ o b li ge d ▁to ▁be a t ▁ s en se le s s ▁the ▁in c re a s ing ly ▁h y s ter ic al ▁c ur a te ▁  ▁who ▁re v i ve s ▁ j u st ▁as ▁the ▁xxmaj ▁ma r t i an s ▁ d ra g ▁h i m ▁of f ▁to ▁the ▁ la r d er ▁( ch e er s ▁from ▁the ▁g a ll er y ; ▁xxmaj ▁ b ri t i sh ▁c ur a t es ▁are ▁so ▁of t en ▁ u t ter ly ▁in s u f fe ra b le ) . ▁xxmaj ▁this ▁film ▁ la st s ▁ al m o st ▁ 3 ▁ ho ur s , ▁g o ing ▁ th ro u g h ▁xxmaj ▁w e ll s ' ▁ st or y ▁in ▁w el com e ▁de t a il . ▁xxmaj ▁it ' s ▁a b o u t ▁ t i me ▁the ▁a u th or ▁g o t ▁his ▁ d u e ▁  ▁in ▁a ▁co mp e ll ing ▁p re s ent a t i on ▁that ▁ b u il d s ▁in ▁ d ra m a t ic ▁ i mp act . ▁a ▁w or d ▁a b o u t ▁the ▁ act ing : ▁xxmaj ▁do n ' t ▁ex p e c t ▁a w ar d - w in n ing ▁p er f or man ce s . ▁xxmaj ▁the y ' re ▁not ▁ba d , ▁ ho w e v er , ▁the ▁ act or s ▁are ▁ e ar ne st ▁and ▁the y ▁g ro w ▁on ▁you . ▁xxmaj ▁mo st ▁of ▁the m , ▁ ho w e v er , ▁have ▁h a d ▁ v er y ▁a b b re v i a t ed ▁film ▁ ca re er s , ▁of t en ▁on ly ▁in ▁this ▁film . ▁xxmaj ▁the ▁xxmaj ▁ n ar ra t or ▁is ▁p la y ed ▁by ▁h un k y ▁xxmaj ▁ an th on y ▁xxmaj ▁p i an a , ▁in ▁his ▁ 2 n d ▁film . ▁xxmaj ▁the ▁xxmaj ▁c ur a te ▁is ▁xxmaj ▁ j o h n ▁xxmaj ▁ k a u f man ▁  ▁ al s o ▁in ▁his ▁ 2 n d ▁film ▁as ▁ an ▁ act or ▁but ▁who ▁h a s ▁h a d ▁mo re ▁ex p er i en ce ▁ d i re c t ing . ▁xxmaj ▁the ▁xxmaj ▁ b ro th er ▁( \" h en d er s on \" ) ▁is ▁p la y ed ▁with ▁some ▁con v ic t i on ▁by ▁xxup ▁w . ▁xxmaj ▁be r n ar d ▁xxmaj ▁ba u man ▁in ▁his ▁f i r st ▁film . ▁xxmaj ▁the ▁xxmaj ▁ ar t i ll er y man , ▁the ▁on ly ▁ o th er ▁ s i z a b le ▁p ar t , ▁is ▁p la y ed ▁by ▁xxmaj ▁ j a me s ▁xxmaj ▁ la th ro p ▁in ▁his ▁f i r st ▁film . ▁xxmaj ▁this ▁is ▁ o ve ra ll ▁a ▁ s p le n d i d ▁film , ▁p or t ra y ing ▁for ▁the ▁f i r st ▁ t i me ▁the ▁xxmaj ▁w ar ▁of ▁the ▁xxmaj ▁w or l d s ▁as ▁xxmaj ▁w e ll s ▁w ro te ▁it . ▁xxmaj ▁de s p i te ▁it s ▁ s l ight ▁de fe c t s , ▁it ▁is ▁f ar ▁and ▁a w a y ▁be t ter ▁ th an ▁ an y ▁of ▁it s ▁h y p ed - u p ▁co mp e t it or s . ▁xxmaj ▁ i f ▁you ▁w an t ▁to ▁see ▁xxup ▁h . ▁xxup ▁g . ▁xxmaj ▁w e ll s ' ▁xxmaj ▁w ar ▁of ▁the ▁xxmaj ▁w or l d s ▁  ▁and ▁not ▁some ▁who ll y ▁ d i st or t ed ▁ v er s i on ▁of ▁it ▁  ▁see ▁this ▁film !</td>\n",
       "    </tr>\n",
       "  </tbody>\n",
       "</table>"
      ],
      "text/plain": [
       "<IPython.core.display.HTML object>"
      ]
     },
     "metadata": {},
     "output_type": "display_data"
    }
   ],
   "source": [
    "dls = texts_s2s.dataloaders(df,bs=2)\n",
    "dls.show_batch(max_n=2)"
   ]
  },
  {
   "cell_type": "code",
   "execution_count": 5,
   "metadata": {},
   "outputs": [],
   "source": [
    "texts2_s2s = DataBlock(\n",
    "    \n",
    "    # blocks specify what type of data we are going to be loading.\n",
    "    # In this case both are text files contained in the same df\n",
    "    #blocks=(TextBlock.from_df('from_txt',is_lm=False),TextBlock.from_df('to_txt',is_lm=False)),\n",
    "    \n",
    "    # You can specify a tokenizer by passing in a tok variable. Comment the line above and ucomment the onces below.\n",
    "    blocks=(\n",
    "        TextBlock.from_df('from_txt', is_lm=False, tok=WordTokenizer()),\n",
    "        TextBlock.from_df('to_txt'  , is_lm=False, tok=WordTokenizer())),\n",
    "    \n",
    "\n",
    "    # The TestBlock tokenization process puts tokenized inputs into a column called text. \n",
    "    # The ColReader for get_x will always reference text, even if the original text inputs \n",
    "    # were in a column with another name in the dataframe.\n",
    "    get_x=ColReader('text'),\n",
    "    get_y=ColReader('text'),\n",
    "    \n",
    "    # The dataframe needs to have a is_valid column for this to work.\n",
    "    splitter=ColSplitter()\n",
    "\n",
    ")"
   ]
  },
  {
   "cell_type": "code",
   "execution_count": 6,
   "metadata": {},
   "outputs": [
    {
     "data": {
      "text/html": [],
      "text/plain": [
       "<IPython.core.display.HTML object>"
      ]
     },
     "metadata": {},
     "output_type": "display_data"
    },
    {
     "data": {
      "text/html": [],
      "text/plain": [
       "<IPython.core.display.HTML object>"
      ]
     },
     "metadata": {},
     "output_type": "display_data"
    },
    {
     "data": {
      "text/html": [
       "<table border=\"1\" class=\"dataframe\">\n",
       "  <thead>\n",
       "    <tr style=\"text-align: right;\">\n",
       "      <th></th>\n",
       "      <th>text</th>\n",
       "      <th>text_</th>\n",
       "    </tr>\n",
       "  </thead>\n",
       "  <tbody>\n",
       "    <tr>\n",
       "      <th>0</th>\n",
       "      <td>xxbos xxmaj raising xxmaj victor xxmaj vargas : a xxmaj review \\n\\n xxmaj you know , xxmaj raising xxmaj victor xxmaj vargas is like sticking your hands into a big , xxunk bowl of xxunk . xxmaj it 's warm and gooey , but you 're not sure if it feels right . xxmaj try as i might , no matter how warm and gooey xxmaj raising xxmaj victor xxmaj vargas became i was always aware that something did n't quite feel right . xxmaj victor xxmaj vargas suffers from a certain xxunk on the director 's part . xxmaj apparently , the director thought that the ethnic backdrop of a xxmaj latino family on the lower east side , and an xxunk storyline would make the film critic proof . xxmaj he was right , but it did n't fool me . xxmaj raising xxmaj victor xxmaj vargas is</td>\n",
       "      <td>xxbos xxmaj raising xxmaj victor xxmaj vargas : a xxmaj review \\n\\n xxmaj you know , xxmaj raising xxmaj victor xxmaj vargas is like sticking your hands into a big , xxunk bowl of xxunk . xxmaj it 's warm and gooey , but you 're not sure if it feels right . xxmaj try as i might , no matter how warm and gooey xxmaj raising xxmaj victor xxmaj vargas became i was always aware that something did n't quite feel right . xxmaj victor xxmaj vargas suffers from a certain xxunk on the director 's part . xxmaj apparently , the director thought that the ethnic backdrop of a xxmaj latino family on the lower east side , and an xxunk storyline would make the film critic proof . xxmaj he was right , but it did n't fool me . xxmaj raising xxmaj victor xxmaj vargas is the story about a xxunk - year old boy called , you guessed it , xxmaj victor xxmaj vargas ( victor xxmaj xxunk ) who lives his teenage years chasing more xxunk than the xxmaj rolling xxmaj xxunk could do in all the years they 've xxunk . xxmaj the movie starts off in ` ugly xxmaj fat ' xxmaj donna 's bedroom where xxmaj victor is sure to seduce her , but a cry from outside xxunk his plans when his best - friend xxmaj harold ( kevin xxmaj xxunk ) comes - a - looking for him . xxmaj caught in the attempt by xxmaj harold and his sister , xxmaj victor xxmaj vargas runs off for xxunk control . xxmaj yet even with the embarrassing implication that he 's been xxunk the xxunk girl in the neighborhood , nothing xxunk young xxmaj victor from going off on the hunt for more fresh meat . xxmaj on a hot , xxmaj new xxmaj york xxmaj city day they make way to the local public swimming pool where xxmaj victor 's eyes catch a glimpse of the lovely young xxunk xxmaj judy ( judy xxmaj xxunk ) , who 's not just pretty , but a strong and independent too . xxmaj the relationship that develops between xxmaj victor and xxmaj judy becomes the focus of the film . xxmaj the story also focuses on xxmaj victor 's family that is comprised of his grandmother or xxunk ( xxunk xxmaj guzman ) , his brother xxmaj nino ( also played by real life brother to xxmaj victor , xxmaj xxunk xxmaj xxunk ) and his sister xxmaj vicky ( xxunk xxmaj xxunk ) . xxmaj the action follows xxmaj victor between scenes with xxmaj judy and scenes with his family . xxmaj victor tries to xxunk with being an oversexed pimp - daddy , his feelings for xxmaj judy and his grandmother 's conservative xxmaj catholic upbringing . \\n\\n xxmaj the problems that xxunk from xxmaj raising xxmaj victor xxmaj vargas are a few , but glaring errors . xxmaj throughout the film you get to know certain characters like xxmaj vicky , xxmaj nino , xxmaj xxunk , xxmaj judy and even xxmaj judy 's best friend xxmaj xxunk . xxmaj the problem is , we know nothing of xxmaj victor xxmaj vargas except that he is the biggest gigolo in the neighborhood . xxmaj we know that he knows how to lick his lips , and xxunk his xxunk , and carry himself for the sake of xxunk girls into the xxunk , but that 's all . xxmaj we know that xxmaj nino plays piano , and quiet well , you could see it by the awards on the family piano . xxmaj we know his sister xxmaj xxunk , is a gossip - loving girl with an xxunk interest in watching xxup tv . xxmaj we know that xxunk is a hard - working traditional xxmaj xxunk woman who 's trying to raise her kids with xxunk in a world of excess corruption . xxmaj yet where is the titular character , xxmaj victor xxmaj vargas ? xxmaj he 's in this movie somewhere , but we only know what the movie tells us . xxmaj this is by far the film 's biggest flaw . xxmaj victor xxmaj vargas is n't so much a character but a xxunk - xxunk ball , xxunk between scenes with xxmaj judy and his xxmaj grandmother , but we never get to know who xxmaj victor xxmaj vargas really is . xxmaj this is important because as xxmaj i 've mentioned the only thing we know of xxmaj victor xxmaj vargas is that he 's a sexually active teenager with a xxunk the size of xxmaj manhattan . xxmaj he 's a total xxmaj xxunk - male . xxmaj victor xxmaj vargas is not the kind of character i sympathize with at all . xxmaj why should anyone ? xxmaj so by the end of the movie , in the aftermath of the climax are we truly led to believe that somehow xxmaj victor xxmaj vargas has attained xxup any depth and learned the errors of his ways ? xxmaj how could such a two - dimensional character have any depth ? xxmaj if only the director had worried a little more about xxunk out his main character instead of worrying about getting that perfect hand - held shot . \\n\\n xxmaj raising xxmaj victor xxmaj vargas brings to life the world of the xxmaj latino inner - city neighborhood to the big screen . xxmaj something that few films have done before in the past . xxmaj the film has been xxunk for feeling so real , and i wo n't \\n\\n argue with that . i have n't seen this level of reality since xxup xxunk aired xxmaj survivor . xxmaj seriously , although the movie has some nice shots of the city , the writer / director xxmaj peter xxmaj sollett was way too xxunk on close - ups and hand - held shots . xxmaj this problem is particularly noticed in xxunk scenes that are so claustrophobic i was forced to perform deep - breathing xxunk to keep from passing out . xxmaj as the film continues , the shots get tighter and tighter with faces xxunk from xxunk to xxunk on the screen ; you can practically xxunk xxmaj victor xxmaj vargas 's cheap xxunk . xxmaj the overall effect is unrealistic in contrast . xxmaj the xxunk scenes of inner - city apartments make them look small and xxunk , which is not true . xxmaj i 've been in those type apartments ; i used to live in one . xxmaj they 're not xxunk but they have high xxunk and they 're decent living xxunk . xxmaj by the movie 's standards you 'd think that these apartments were xxunk xxunk of xxunk - and - xxunk , xxunk paint and xxunk walls . xxmaj unfortunately , xxmaj sollett 's constant use of close - ups and one particularly bad shot with a xxunk - in on one scene come off as totally amateurish . xxmaj but xxmaj raising xxmaj victor xxmaj vargas is only xxmaj sollett 's second film , and his most well known , a solid effort in filmmaking that will hopefully get better as he continues to make films . xxmaj one review i read xxunk the movie as , ` ethnicity for xxmaj ethnicity 's xxmaj sake , ' and i can not agree more . xxmaj if xxmaj victor xxmaj vargas were truly a great film and story , then the characters ' xxunk would n't matter whether they were xxmaj latino , xxmaj chinese , etc . xxmaj yet if you were to take this story and stick it in middle - class xxunk with a bunch of xxunk - xxunk white kids the results would n't be such glowing reviews , and we 'd see the film 's flaws more clearly . xxmaj indeed , some other aspects of the use of xxmaj latinos in this film bother me . xxmaj while some aspects of xxmaj victor xxmaj vargas are accurate others i have to question . xxmaj for example , xxmaj victor , xxmaj nino and xxmaj vicky all share the same room to sleep . xxmaj this set off an alarm for me because it seemed contrary to what i believe . xxmaj any self - xxunk xxmaj latino family would n't have two older brothers sharing the same room with a thirteen - year old girl . xxmaj at first i was xxunk , perhaps i was wrong , but after speaking with my grandmother i knew my problem with this was justified . xxmaj considering how conservative the grandmother is , you 'd think that xxmaj vicky would have been sleeping in her room . \\n\\n xxmaj as a xxmaj latino who grew up in a somewhat conservative xxmaj cuban household , raised by my grandmother while my mother was working full - time , i could relate to the movie in many ways , which is why my critical xxunk are xxunk because i really wanted to love this movie . xxmaj unfortunately , my lack of respect for xxmaj victor xxmaj vargas xxunk my feelings for the film . xxmaj maybe it 's because xxmaj victor xxmaj vargas reminds me of those guys who were getting laid while i was playing with my xxmaj xxunk xxmaj xxunk when i was xxunk . xxmaj maybe it 's because without any further xxunk by the film , xxmaj victor xxmaj vargas is merely a stereotypical hot - blooded xxmaj latino , who 'll just end up shouting to girls from his car , ` hey bay - xxunk , xxunk want to get into my xxunk xxunk - xxunk ? ' xxmaj either way i do n't like him , so ultimately how can i like a film about him ? xxmaj so if you 'll excuse me , xxmaj i 'm going to go stick my hands into a bowl of xxunk .</td>\n",
       "    </tr>\n",
       "    <tr>\n",
       "      <th>1</th>\n",
       "      <td>xxbos xxmaj the xxmaj blob starts with one of the most bizarre theme songs ever , xxunk by an uncredited xxmaj burt xxmaj xxunk of all people ! xxmaj you really have to hear it to believe it , xxmaj the xxmaj blob may be worth watching just for this song alone &amp; my user comment summary is just a little taste of the classy lyrics … xxmaj after this xxunk opening credits sequence xxmaj the xxmaj blob introduces us , the viewer that is , to xxmaj steve xxmaj xxunk ( steve mcqueen as xxmaj steven mcqueen ) &amp; his girlfriend xxmaj jane xxmaj martin ( xxunk xxmaj xxunk ) who are xxunk on their own somewhere &amp; witness what looks like a meteorite falling to xxmaj earth in nearby woods . xxmaj an old man ( xxunk xxmaj xxunk as xxmaj xxunk xxmaj xxunk ) who lives in</td>\n",
       "      <td>xxbos xxmaj the xxmaj blob starts with one of the most bizarre theme songs ever , xxunk by an uncredited xxmaj burt xxmaj xxunk of all people ! xxmaj you really have to hear it to believe it , xxmaj the xxmaj blob may be worth watching just for this song alone &amp; my user comment summary is just a little taste of the classy lyrics … xxmaj after this xxunk opening credits sequence xxmaj the xxmaj blob introduces us , the viewer that is , to xxmaj steve xxmaj xxunk ( steve mcqueen as xxmaj steven mcqueen ) &amp; his girlfriend xxmaj jane xxmaj martin ( xxunk xxmaj xxunk ) who are xxunk on their own somewhere &amp; witness what looks like a meteorite falling to xxmaj earth in nearby woods . xxmaj an old man ( xxunk xxmaj xxunk as xxmaj xxunk xxmaj xxunk ) who lives in a cabin also sees it &amp; goes to investigate , he finds a crater &amp; a strange football xxunk rock which xxunk open when he unwisely pokes it with a stick . xxmaj laying in the xxunk of the meteorite is a strange xxunk like substance which sticks to the stick , if you know what i mean ! xxmaj it then xxunk up the stick &amp; xxunk itself to the old man 's hand . xxmaj meanwhile xxmaj steve &amp; xxmaj jane are quietly driving along xxunk their own business when the old man runs out in front of xxmaj steve 's car , xxmaj steve being a decent kinda guy decides to take the old man to xxmaj dr . xxup xxunk xxmaj hallan ( xxunk ' stephen ' xxmaj chase as xxmaj steven xxmaj chase ) at the local surgery . xxmaj dr . xxmaj hallan says he does n't know what the substance on the old man 's hand is but it 's getting bigger &amp; asks xxmaj steve to go back where he found him &amp; see if he can find out what happened . xxmaj steve agrees but does n't come up with anything &amp; upon returning to xxmaj dr . xxmaj hallan 's surgery he witnesses the blob xxunk him . xxmaj the town 's police , xxmaj xxunk xxmaj dave ( earl xxmaj xxunk ) &amp; the teenage hating xxmaj xxunk xxmaj jim xxmaj bert ( john xxmaj xxunk ) xxunk do n't believe a word of it &amp; end up xxunk xxmaj steve &amp; his mates xxmaj al ( anthony xxmaj xxunk ) , xxmaj tony ( robert xxmaj fields ) &amp; someone called ' xxunk ' xxmaj miller ( james xxmaj xxunk ) of playing an elaborate practical joke on the police department . xxmaj however as the blob continues to eat it 's way through the town xxmaj steve sets about finding proof of it 's existence &amp; convincing the police about the threat it xxunk not just to their town but the entire world ! \\n\\n xxmaj directed xxmaj xxunk xxup s. xxmaj xxunk xxmaj jr . &amp; an uncredited xxmaj russell xxup s. xxmaj xxunk xxmaj jr . i was xxunk disappointed by this , the original 1958 version of xxmaj the xxmaj blob . xxmaj the script by xxmaj kay xxmaj xxunk as xxmaj kate xxmaj phillips &amp; xxmaj xxunk xxmaj xxunk is an absolute bore &amp; extremely dull not making the most of it 's strongest aspects . xxmaj the xxmaj blob focuses on the tiresome xxunk &amp; conflicts between the teenagers &amp; police , in fact the majority of xxmaj the xxmaj blob is spent on xxmaj steve trying to convince the police of the blob 's existence . xxmaj for most of the film the blob itself almost seems xxunk &amp; somewhat forgotten . xxmaj it only has two or three scenes for the fist hour &amp; a bit until the less than exciting climax when the adults &amp; teenagers have to work together to defeat the blob &amp; have a new found appreciation of each other afterwards , xxunk ! xxmaj why could n't the blob just eat the lot of 'em ? xxmaj no explanation is given for what the blob is or it 's origins other than it came from space , how long did it take them to come up with that ? xxmaj the dialogue is xxunk &amp; silly as well , as are people 's actions &amp; decision making , i love the part when a nurse named xxmaj kate ( lee xxmaj xxunk as xxmaj lee xxmaj xxunk , did anyone use their real name in this thing ? ) is xxunk by the blob , she throws some acid over it &amp; xxunk xxunk \" doctor , nothing will stop it ! \" , how does she know ' nothing ' will stop it exactly ? xxmaj there 's no blood or violence so do n't worry about that , the special effects on the blob itself are n't too bad considering but it barely has any screen time &amp; moves very slowly , a bit like the film in general actually . xxmaj the acting is terrible , mcqueen is supposed to be a teenager when in reality he was 28 years old &amp; it shows , he looks old enough to be his own dad ! xxmaj same thing goes for most of the other ' teenage ' cast members &amp; everyone generally speaking are wooden &amp; unconvincing in their roles . xxmaj technically xxmaj the xxmaj blob is very basic , dark static photography , dull direction &amp; forgettable production values . xxmaj the xxmaj blob is one of those films that probably sounds good on paper &amp; is well known as being a ' classic ' but is in actual fact a huge disappointment when finally seen . xxmaj this is one case when the remake xxmaj the xxmaj blob ( xxunk ) is definitely better than the original . xxmaj the original xxmaj blob is slow &amp; boring &amp; the remake is n't , the original xxmaj blob contains no blood or gore &amp; the remake does , the original xxmaj blob has incredibly poor acting &amp; casting decisions &amp; the remake does n't &amp; the original xxmaj blob itself gets very little screen time eating only three or four people throughout the entire film &amp; the remake features the blob all the way through &amp; it virtually eats an entire town . xxmaj the choice is an easy one , the remake every time as it 's a better film in every respect . xxmaj i 'll give the film two stars &amp; give that wonderful main theme song one on it 's own . xxmaj definitely not the classic many seem to make out .</td>\n",
       "    </tr>\n",
       "  </tbody>\n",
       "</table>"
      ],
      "text/plain": [
       "<IPython.core.display.HTML object>"
      ]
     },
     "metadata": {},
     "output_type": "display_data"
    }
   ],
   "source": [
    "dls = texts2_s2s.dataloaders(df,bs=2)\n",
    "dls.show_batch(max_n=2)"
   ]
  },
  {
   "cell_type": "code",
   "execution_count": null,
   "metadata": {},
   "outputs": [],
   "source": []
  }
 ],
 "metadata": {
  "kernelspec": {
   "display_name": "deeplearning_pytorch",
   "language": "python",
   "name": "deeplearning_pytorch"
  },
  "language_info": {
   "codemirror_mode": {
    "name": "ipython",
    "version": 3
   },
   "file_extension": ".py",
   "mimetype": "text/x-python",
   "name": "python",
   "nbconvert_exporter": "python",
   "pygments_lexer": "ipython3",
   "version": "3.8.2"
  }
 },
 "nbformat": 4,
 "nbformat_minor": 4
}
