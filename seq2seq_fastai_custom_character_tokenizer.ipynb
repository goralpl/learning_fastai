{
 "cells": [
  {
   "cell_type": "code",
   "execution_count": 1,
   "metadata": {},
   "outputs": [],
   "source": [
    "from fastai.text.all import *\n",
    "import os\n",
    "import pandas as pd\n",
    "import warnings\n",
    "warnings.filterwarnings(\"ignore\", category=np.VisibleDeprecationWarning)\n",
    "%config Completer.use_jedi = False"
   ]
  },
  {
   "cell_type": "code",
   "execution_count": 2,
   "metadata": {},
   "outputs": [
    {
     "ename": "SyntaxError",
     "evalue": "invalid syntax (<ipython-input-2-7f65592b8f10>, line 26)",
     "output_type": "error",
     "traceback": [
      "\u001b[0;36m  File \u001b[0;32m\"<ipython-input-2-7f65592b8f10>\"\u001b[0;36m, line \u001b[0;32m26\u001b[0m\n\u001b[0;31m    return = (x for x in final_list)\u001b[0m\n\u001b[0m           ^\u001b[0m\n\u001b[0;31mSyntaxError\u001b[0m\u001b[0;31m:\u001b[0m invalid syntax\n"
     ]
    }
   ],
   "source": [
    "class CharacterTokenizer():\n",
    "    \n",
    "    def __init__(self, split_char=' ', **kwargs): \n",
    "        self.split_char=split_char\n",
    "        \n",
    "    def __call__(self, items):\n",
    "        \n",
    "        # List where I temporarly store the tokens ['xxbos', 'h', 'e', 'l', 'l', 'o', 'xxeos'] as \n",
    "        # they are being parsed.\n",
    "        final_list = []\n",
    "        \n",
    "        # We don't want to mess with the special fastai tokens\n",
    "        special_chars = ['xxunk','xxpad','xxbos','xxeos','xxfld','xxrep','xxwrep','xxup','xxmaj']\n",
    "        \n",
    "        # Break up string into words, if word in special_chars dont touch it. Otherwise break up each\n",
    "        # word into each character.\n",
    "        for words in items:\n",
    "            for word in words.split():\n",
    "                if word not in special_chars:\n",
    "                    for char in word:\n",
    "                        final_list.append([char])\n",
    "                else:\n",
    "                    final_list.append([word])\n",
    "\n",
    "        # Return a generator?? I'm not sure why we need to do this...        \n",
    "        return (x for x in final_list)\n"
   ]
  },
  {
   "cell_type": "code",
   "execution_count": null,
   "metadata": {},
   "outputs": [],
   "source": [
    "# Example of a validation dataset. In this case it is a list of python dictionaries.\n",
    "# You should be able to adapt this to your usecase if you can read in a file using Pandas.\n",
    "valid_jsons = [\n",
    "    {\"from_txt\":\"Hello how are you?\",\"to_txt\":\"I am doing fine.\"},\n",
    "    {\"from_txt\":\"Is it going to rain today?\",\"to_txt\":\"Let me pull up the weather.\"},\n",
    "    {\"from_txt\":\"How do fastai DataBlocks work?\",\"to_txt\":\"Not sure, I'm still learning.\"}\n",
    "]\n",
    "\n",
    "# Read the list of dicts into a Data Frame\n",
    "df_valid = pd.DataFrame(valid_jsons)\n",
    "\n",
    "# Add a is_valid colum. The ColSplitter() function below expects this column.\n",
    "df_valid['is_valid'] = True\n",
    "\n",
    "# View our work\n",
    "df_valid.head()"
   ]
  },
  {
   "cell_type": "code",
   "execution_count": null,
   "metadata": {},
   "outputs": [],
   "source": [
    "# Example of a test dataset. In this case it is a list of python dictionaries.\n",
    "# You should be able to adapt this to your usecase if you can read in a file using Pandas.\n",
    "test_jsons = [\n",
    "    {\"from_txt\":\"Hello, where is the closest McDonald's?\",\"to_txt\":\"Let me find you that on Google Maps.\"},\n",
    "    {\"from_txt\":\"Is it going to snow today?\",\"to_txt\":\"Let me pull up the weather.\"},\n",
    "    {\"from_txt\":\"How much coffee is safe to drink?\",\"to_txt\":\"As much as you need to learn the Fastai Library.\"}\n",
    "]\n",
    "\n",
    "# Read the list of dicts into a Data Frame\n",
    "df_train = pd.DataFrame(test_jsons)\n",
    "\n",
    "\n",
    "# Add a is_valid colum\n",
    "df_train['is_valid'] = False\n",
    "\n",
    "# View our work\n",
    "df_train.head()"
   ]
  },
  {
   "cell_type": "code",
   "execution_count": null,
   "metadata": {},
   "outputs": [],
   "source": [
    "# Stack the two dataframes into one.\n",
    "df = pd.concat([df_train,df_valid], ignore_index=True)\n",
    "df.head()"
   ]
  },
  {
   "cell_type": "code",
   "execution_count": null,
   "metadata": {},
   "outputs": [],
   "source": [
    "logs = DataBlock(\n",
    "    \n",
    "    # blocks specify what type of data we are going to be loading.\n",
    "    # In this case both are text files contained in the same df\n",
    "    #blocks=(TextBlock.from_df('from_txt',is_lm=False),TextBlock.from_df('to_txt',is_lm=False)),\n",
    "    \n",
    "    # You can specify a tokenizer by passing in a tok variable. Comment the line above and ucomment the onces below.\n",
    "    #blocks=(\n",
    "    #    TextBlock.from_df('from_txt', is_lm=False, tok=SubwordTokenizer(vocab_sz=200)),\n",
    "    #    TextBlock.from_df('to_txt'  , is_lm=False, tok=SubwordTokenizer(vocab_sz=200))),\n",
    "    \n",
    "    blocks=(\n",
    "        TextBlock.from_df('from_txt', is_lm=False, tok=CharacterTokenizer()),\n",
    "        TextBlock.from_df('to_txt'  , is_lm=False, tok=CharacterTokenizer())),\n",
    "    \n",
    "    # The TestBlock tokenization process puts tokenized inputs into a column called text. \n",
    "    # The ColReader for get_x will always reference text, even if the original text inputs \n",
    "    # were in a column with another name in the dataframe.\n",
    "    get_x=ColReader('text'),\n",
    "    get_y=ColReader('text'),\n",
    "    \n",
    "    # The dataframe needs to have a is_valid column for this to work.\n",
    "    splitter=ColSplitter()\n",
    "\n",
    ")"
   ]
  },
  {
   "cell_type": "code",
   "execution_count": null,
   "metadata": {},
   "outputs": [],
   "source": [
    "dls = logs.dataloaders(df)\n",
    "#dls.show_batch(max_n=2)"
   ]
  },
  {
   "cell_type": "code",
   "execution_count": null,
   "metadata": {},
   "outputs": [],
   "source": []
  }
 ],
 "metadata": {
  "kernelspec": {
   "display_name": "deeplearning_pytorch",
   "language": "python",
   "name": "deeplearning_pytorch"
  },
  "language_info": {
   "codemirror_mode": {
    "name": "ipython",
    "version": 3
   },
   "file_extension": ".py",
   "mimetype": "text/x-python",
   "name": "python",
   "nbconvert_exporter": "python",
   "pygments_lexer": "ipython3",
   "version": "3.8.2"
  }
 },
 "nbformat": 4,
 "nbformat_minor": 4
}
