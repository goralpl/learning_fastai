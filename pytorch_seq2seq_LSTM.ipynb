{
 "cells": [
  {
   "cell_type": "code",
   "execution_count": 1,
   "metadata": {},
   "outputs": [],
   "source": [
    "import pandas as pd\n",
    "import os\n",
    "%config Completer.use_jedi = False"
   ]
  },
  {
   "cell_type": "code",
   "execution_count": 2,
   "metadata": {},
   "outputs": [],
   "source": [
    "import torch\n",
    "import torch.nn as nn\n",
    "import torch.optim as optim\n",
    "from torchtext.data import Field, TabularDataset, BucketIterator\n",
    "import sys\n",
    "import spacy\n",
    "import random"
   ]
  },
  {
   "cell_type": "code",
   "execution_count": 3,
   "metadata": {},
   "outputs": [],
   "source": [
    "if not sys.warnoptions:\n",
    "    import warnings\n",
    "\n",
    "    warnings.simplefilter(\"ignore\")\n",
    "\n",
    "debug_print = False"
   ]
  },
  {
   "cell_type": "code",
   "execution_count": 4,
   "metadata": {},
   "outputs": [],
   "source": [
    "# Spacy tokenizer\n",
    "spacy_eng = spacy.load('en')\n",
    "\n",
    "def tokenizer_eng(text):\n",
    "    return[tok.text for tok in spacy_eng.tokenizer(text)]"
   ]
  },
  {
   "cell_type": "code",
   "execution_count": 5,
   "metadata": {},
   "outputs": [],
   "source": [
    "tokenizer = tokenizer_eng"
   ]
  },
  {
   "cell_type": "code",
   "execution_count": 6,
   "metadata": {},
   "outputs": [],
   "source": [
    "# If there is a GPU available we will use that for the computations\n",
    "device = torch.device('cuda' if torch.cuda.is_available() else 'cpu')"
   ]
  },
  {
   "cell_type": "code",
   "execution_count": 7,
   "metadata": {},
   "outputs": [],
   "source": [
    "# Specifies how the source text be processed in Torchtext\n",
    "src_txt = Field(sequential=True,\n",
    "                use_vocab=True,\n",
    "                tokenize=tokenizer,\n",
    "                init_token='<sos>',\n",
    "                eos_token='<eos>',\n",
    "                lower=False)"
   ]
  },
  {
   "cell_type": "code",
   "execution_count": 8,
   "metadata": {},
   "outputs": [],
   "source": [
    "# Specifies how each target text should be processed in Torchtext\n",
    "trg_txt = Field(sequential=True,\n",
    "                     use_vocab=True,\n",
    "                     tokenize=tokenizer,\n",
    "                     init_token='<sos>',\n",
    "                     eos_token='<eos>',\n",
    "                     lower=False)"
   ]
  },
  {
   "cell_type": "code",
   "execution_count": 9,
   "metadata": {},
   "outputs": [],
   "source": [
    "fields = {'src_english': ('src_seq', src_txt), 'trg_french': ('trg_seq', trg_txt)}\n",
    "\n",
    "train_data, valid_data = TabularDataset.splits(path='data/',\n",
    "                                              train='train_en_fr.csv',\n",
    "                                              validation='valid_en_fr.csv',\n",
    "                                              format='csv',\n",
    "                                              fields=fields)"
   ]
  },
  {
   "cell_type": "code",
   "execution_count": 10,
   "metadata": {},
   "outputs": [],
   "source": [
    "# Build the vocab using our custom character embeddings\n",
    "src_txt.build_vocab(train_data,max_size=10000, min_freq=3)"
   ]
  },
  {
   "cell_type": "code",
   "execution_count": 11,
   "metadata": {},
   "outputs": [],
   "source": [
    "# Build the vocab using our custom character embeddings\n",
    "trg_txt.build_vocab(train_data,max_size=10000, min_freq=3)"
   ]
  },
  {
   "cell_type": "code",
   "execution_count": 12,
   "metadata": {},
   "outputs": [
    {
     "data": {
      "text/plain": [
       "4727"
      ]
     },
     "execution_count": 12,
     "metadata": {},
     "output_type": "execute_result"
    }
   ],
   "source": [
    "len(src_txt.vocab)"
   ]
  },
  {
   "cell_type": "code",
   "execution_count": 13,
   "metadata": {},
   "outputs": [
    {
     "data": {
      "text/plain": [
       "5032"
      ]
     },
     "execution_count": 13,
     "metadata": {},
     "output_type": "execute_result"
    }
   ],
   "source": [
    "len(trg_txt.vocab)"
   ]
  },
  {
   "cell_type": "code",
   "execution_count": 14,
   "metadata": {},
   "outputs": [],
   "source": [
    "class Encoder(nn.Module):\n",
    "    def __init__(self, input_size, embedding_size, hidden_size, num_layers, dropout_p):\n",
    "        super(Encoder,self).__init__()\n",
    "        '''\n",
    "            input_size:     size of the input vocabulary\n",
    "            embedding_size: size of each word embedding\n",
    "            hidden_size:    size of the hidden layer\n",
    "            num_layers:     number of layers in our encoder lstm\n",
    "            dropout:        the probability for our dropout\n",
    "        '''\n",
    "        self.hidden_size = hidden_size\n",
    "        self.num_layers = num_layers\n",
    "        \n",
    "        self.dropout = nn.Dropout(dropout_p)\n",
    "        self.embedding = nn.Embedding(input_size, embedding_size)\n",
    "        self.rnn = nn.LSTM(embedding_size,hidden_size,num_layers,dropout=dropout_p)\n",
    "        \n",
    "    def forward(self,x):\n",
    "        # x shape: (seq_len, batch_size)    \n",
    "        embedding = self.dropout(self.embedding(x))\n",
    "        \n",
    "        # embedding shape: (seq_length, batch_size, embedding_size)\n",
    "        outputs, (hidden, cell) = self.rnn(embedding)\n",
    "        \n",
    "        return hidden,cell\n"
   ]
  },
  {
   "cell_type": "code",
   "execution_count": 15,
   "metadata": {},
   "outputs": [],
   "source": [
    "class Decoder(nn.Module):\n",
    "    def __init__(self, input_size, embedding_size, hidden_size, output_size, num_layers, dropout_p):\n",
    "        super(Decoder,self).__init__()\n",
    "        '''\n",
    "            input_size:     size of the input vocabulary\n",
    "            embedding_size: size of each word embedding\n",
    "            hidden_size:    size of the hidden layer\n",
    "            output_size:    size of the output vocabulary\n",
    "            num_layers:     number of layers in our encoder lstm\n",
    "            dropout:        the probability for our dropout\n",
    "        '''\n",
    "        self.hidden_size = hidden_size\n",
    "        self.num_layers = num_layers\n",
    "        \n",
    "        self.dropout=nn.Dropout(dropout_p)\n",
    "        self.embedding = nn.Embedding(input_size, embedding_size)\n",
    "        self.rnn = nn.LSTM(embedding_size,hidden_size,num_layers,dropout=dropout_p)\n",
    "        self.fc = nn.Linear(hidden_size,output_size)\n",
    "    \n",
    "    def forward(self,x,hidden,cell):\n",
    "        # shape of x: (N) but we want (1,N)\n",
    "        x = x.unsqueeze(0)\n",
    "        \n",
    "        # embedding shape: (1, N, embedding_size)\n",
    "        embedding = self.dropout(self.embedding(x))\n",
    "        \n",
    "        # shape of outputs: (1, N, hidden_size)\n",
    "        outputs, (hidden,cell) = self.rnn(embedding,(hidden,cell))\n",
    "        \n",
    "        # shape of predictions: (1, N, length_of_vocab)\n",
    "        predictions = self.fc(outputs)\n",
    "        \n",
    "        predictions = predictions.squeeze(0)\n",
    "        \n",
    "        return predictions, hidden, cell\n",
    "        "
   ]
  },
  {
   "cell_type": "code",
   "execution_count": 16,
   "metadata": {},
   "outputs": [],
   "source": [
    "class Seq2Seq(nn.Module):\n",
    "    def __init__(self, encoder,decoder):\n",
    "        super(Seq2Seq, self).__init__()\n",
    "        self.encoder = encoder\n",
    "        self.decoder = decoder\n",
    "        \n",
    "    def forward(self, source, target, teacher_force_ratio = 0.5):\n",
    "        batch_size = source.shape[1]\n",
    "   \n",
    "        target_len = target.shape[0]\n",
    "   \n",
    "        target_vocab_size = len(trg_txt.vocab)\n",
    " \n",
    "        outputs = torch.zeros(target_len,batch_size,target_vocab_size).to(device)\n",
    "\n",
    "        hidden, cell = self.encoder(source)\n",
    "        \n",
    "        # Grab the start token\n",
    "        x = target[0]\n",
    "        \n",
    "        for t in range(1,target_len):\n",
    "\n",
    "            output, hidden, cell = self.decoder(x,hidden,cell)\n",
    "            \n",
    "            outputs[t] = output\n",
    "            \n",
    "            best_guess = output.argmax(1)\n",
    "            \n",
    "            x = target[t] if random.random() < teacher_force_ratio else best_guess\n",
    "        \n",
    "        return outputs"
   ]
  },
  {
   "cell_type": "markdown",
   "metadata": {},
   "source": [
    "Now we are ready to do the training!"
   ]
  },
  {
   "cell_type": "code",
   "execution_count": 17,
   "metadata": {},
   "outputs": [],
   "source": [
    "# Training hyperparameters\n",
    "num_epoc = 10\n",
    "learning_rate = 0.0001\n",
    "batch_size = 64"
   ]
  },
  {
   "cell_type": "code",
   "execution_count": 18,
   "metadata": {},
   "outputs": [],
   "source": [
    "# Model hyperparameters\n",
    "load_model = False\n",
    "device = torch.device('cuda' if torch.cuda.is_available() else 'cpu')\n",
    "input_size_encoder = len(src_txt.vocab)\n",
    "input_size_decoder = len(trg_txt.vocab)\n",
    "output_size = len(trg_txt.vocab)\n",
    "encoder_embedding_size = 300\n",
    "decoder_embedding_size = 300\n",
    "hidden_size = 1024\n",
    "num_layers = 2\n",
    "encoder_dropout = 0.5\n",
    "decoder_dropout = 0.5"
   ]
  },
  {
   "cell_type": "code",
   "execution_count": 19,
   "metadata": {},
   "outputs": [],
   "source": [
    "train_iterator, valid_iterator = BucketIterator.splits(\n",
    "    (train_data, valid_data),\n",
    "    batch_size=batch_size,\n",
    "    sort_within_batch=True,\n",
    "    sort_key=lambda x: len(x.src_seq),\n",
    "    device=device\n",
    ")"
   ]
  },
  {
   "cell_type": "code",
   "execution_count": 20,
   "metadata": {},
   "outputs": [],
   "source": [
    "encoder_net = Encoder(input_size_encoder, encoder_embedding_size, hidden_size, num_layers, encoder_dropout).to(device)"
   ]
  },
  {
   "cell_type": "code",
   "execution_count": 21,
   "metadata": {},
   "outputs": [],
   "source": [
    "decoder_net = Decoder(input_size_decoder, decoder_embedding_size, hidden_size, output_size, num_layers, decoder_dropout).to(device)"
   ]
  },
  {
   "cell_type": "code",
   "execution_count": 22,
   "metadata": {},
   "outputs": [],
   "source": [
    "model = Seq2Seq(encoder_net,decoder_net).to(device)"
   ]
  },
  {
   "cell_type": "code",
   "execution_count": 23,
   "metadata": {},
   "outputs": [],
   "source": [
    "pad_idx = trg_txt.vocab.stoi['<pad>']"
   ]
  },
  {
   "cell_type": "code",
   "execution_count": 24,
   "metadata": {},
   "outputs": [],
   "source": [
    "criterion = nn.CrossEntropyLoss(ignore_index=pad_idx)\n",
    "optimizer = optim.Adam(model.parameters(),lr=learning_rate)"
   ]
  },
  {
   "cell_type": "code",
   "execution_count": 25,
   "metadata": {},
   "outputs": [],
   "source": [
    "def save_checkpoint(state, filename='my_checkpoint_log_pai_templates_char.pth.tar'):\n",
    "    print('saving checkpoint')\n",
    "    torch.save(state,filename)"
   ]
  },
  {
   "cell_type": "code",
   "execution_count": 26,
   "metadata": {},
   "outputs": [],
   "source": [
    "def load_checkpoint(checkpoint,model,optimizer):\n",
    "    print('loading checkpoint:')\n",
    "    #model.load_state_dict(checkpoint['state_dict'])\n",
    "    #optimizer.load_state_dict(checkpoint['optimizer'])"
   ]
  },
  {
   "cell_type": "code",
   "execution_count": 27,
   "metadata": {},
   "outputs": [],
   "source": [
    "def seq2seq_acc(out, targ, pad_idx=1):\n",
    "    out = out.argmax(2)\n",
    "    targ_len = targ.size()\n",
    "    out_len= out.size()\n",
    "    if targ_len>out_len: out  = F.pad(out,  (0,0,0,targ_len-out_len,0,0), value=pad_idx)\n",
    "    if out_len>targ_len: targ = F.pad(targ, (0,out_len-targ_len,0,0), value=pad_idx)\n",
    "    return (out==targ).float().mean()"
   ]
  },
  {
   "cell_type": "code",
   "execution_count": null,
   "metadata": {},
   "outputs": [
    {
     "name": "stdout",
     "output_type": "stream",
     "text": [
      "Epoch [1 / 10]\n",
      "valid_accuracy: 0.0\n",
      "Epoch [2 / 10]\n",
      "valid_accuracy: 0.16044573858380318\n",
      "saving checkpoint\n",
      "Saving Checkpoint with acc: 0.16044573858380318\n",
      "Epoch [3 / 10]\n",
      "valid_accuracy: 0.1945576909929514\n",
      "saving checkpoint\n",
      "Saving Checkpoint with acc: 0.1945576909929514\n",
      "Epoch [4 / 10]\n",
      "valid_accuracy: 0.2208641618490219\n",
      "saving checkpoint\n",
      "Saving Checkpoint with acc: 0.2208641618490219\n",
      "Epoch [5 / 10]\n",
      "valid_accuracy: 0.23837747983634472\n",
      "saving checkpoint\n",
      "Saving Checkpoint with acc: 0.23837747983634472\n",
      "Epoch [6 / 10]\n",
      "valid_accuracy: 0.2515052296221256\n",
      "saving checkpoint\n",
      "Saving Checkpoint with acc: 0.2515052296221256\n",
      "Epoch [7 / 10]\n",
      "valid_accuracy: 0.2680730801075697\n",
      "saving checkpoint\n",
      "Saving Checkpoint with acc: 0.2680730801075697\n",
      "Epoch [8 / 10]\n",
      "valid_accuracy: 0.27716164384037256\n",
      "saving checkpoint\n",
      "Saving Checkpoint with acc: 0.27716164384037256\n",
      "Epoch [9 / 10]\n",
      "valid_accuracy: 0.29550633672624826\n",
      "saving checkpoint\n",
      "Saving Checkpoint with acc: 0.29550633672624826\n"
     ]
    }
   ],
   "source": [
    "import torch.nn.functional as F\n",
    "\n",
    "max_length =50\n",
    "best_valid_acc = 0\n",
    "\n",
    "for epoch in range(num_epoc):\n",
    "    print(f'Epoch [{epoch +1} / {num_epoc}]')\n",
    "    \n",
    "    model.eval()\n",
    "    acc = []\n",
    "    for batch_idx, batch in enumerate(valid_iterator):\n",
    "        inp_data = batch.src_seq.to(device)\n",
    " \n",
    "        target = batch.trg_seq.to(device)\n",
    "\n",
    "        output = model(inp_data, target)\n",
    "        \n",
    "        accuracy = seq2seq_acc(output,target)\n",
    "    \n",
    "        acc.append(float(accuracy))\n",
    "    \n",
    "    model.train()\n",
    "    \n",
    "    valid_accuracy = sum(acc)/len(acc)\n",
    "    print(f'valid_accuracy: {valid_accuracy}')\n",
    "    \n",
    "    if valid_accuracy > best_valid_acc:\n",
    "        save_checkpoint(model)\n",
    "        print(f'Saving Checkpoint with acc: {valid_accuracy}')\n",
    "        best_valid_acc = valid_accuracy\n",
    "        \n",
    "    for batch_idx, batch in enumerate(train_iterator):\n",
    "        inp_data = batch.src_seq.to(device)\n",
    "       \n",
    "        target = batch.trg_seq.to(device)\n",
    "\n",
    "        \n",
    "        # output shape: (trg_len,batch_size,output_dim)\n",
    "        output = model(inp_data, target)\n",
    "        \n",
    "        output = output[1:].reshape(-1, output.shape[2])\n",
    "        target = target[1:].reshape(-1)\n",
    "        \n",
    "        optimizer.zero_grad()\n",
    "        loss = criterion(output,target)\n",
    "        \n",
    "        loss.backward()\n",
    "        \n",
    "        torch.nn.utils.clip_grad_norm(model.parameters(), max_norm=1)\n",
    "        optimizer.step()\n",
    "        \n",
    "        if debug_print: print(f'Training Loss: {loss}')\n",
    "        \n",
    "        #step +=1\n",
    "    \n",
    "\n",
    "        \n",
    "        \n",
    "        \n",
    "        \n",
    "        \n",
    "        \n",
    "    "
   ]
  },
  {
   "cell_type": "code",
   "execution_count": null,
   "metadata": {},
   "outputs": [],
   "source": [
    "# Set to evaluation mode for inference\n",
    "model.eval()"
   ]
  },
  {
   "cell_type": "code",
   "execution_count": null,
   "metadata": {},
   "outputs": [],
   "source": [
    "# Handy translate/inference function\n",
    "def translate_sentence(model, sentence, src_vocab, trg_vocab, device, max_length=50):\n",
    "\n",
    "    # Load src_vocab tokenizer\n",
    "    spacy_ger = spacy.load(\"en\")\n",
    "\n",
    "    # Create tokens using spacy and everything in lower case (which is what our vocab is)\n",
    "    if type(sentence) == str:\n",
    "        tokens = [token.text.lower() for token in spacy_ger(sentence)]\n",
    "    else:\n",
    "        tokens = [token.lower() for token in sentence]\n",
    "\n",
    "    # Add <SOS> and <EOS> in beginning and end respectively\n",
    "    tokens.insert(0, src_vocab.init_token)\n",
    "    tokens.append(src_vocab.eos_token)\n",
    "\n",
    "    # Go through each src_vocab token and convert to an index\n",
    "    text_to_indices = [src_vocab.vocab.stoi[token] for token in tokens]\n",
    "\n",
    "    # Convert to Tensor\n",
    "    sentence_tensor = torch.LongTensor(text_to_indices).unsqueeze(1).to(device)\n",
    "    \n",
    "    # Build encoder hidden, cell state\n",
    "    with torch.no_grad():\n",
    "        hidden, cell = model.encoder(sentence_tensor)\n",
    "\n",
    "    outputs = [src_txt.vocab.stoi[\"<sos>\"]]\n",
    "\n",
    "    for _ in range(max_length):\n",
    "        previous_word = torch.LongTensor([outputs[-1]]).to(device)\n",
    "\n",
    "        with torch.no_grad():\n",
    "            output, hidden, cell = model.decoder(previous_word, hidden, cell)\n",
    "            best_guess = output.argmax(1).item()\n",
    "            print(best_guess)\n",
    "\n",
    "        outputs.append(best_guess)\n",
    "\n",
    "        # Model predicts it's the end of the sentence\n",
    "        if output.argmax(1).item() == trg_vocab.vocab.stoi[\"<eos>\"]:\n",
    "            break\n",
    "\n",
    "    translated_sentence = [trg_vocab.vocab.itos[idx] for idx in outputs]\n",
    "\n",
    "    # remove start token\n",
    "    return [translated_sentence[1:]][:1]"
   ]
  },
  {
   "cell_type": "code",
   "execution_count": null,
   "metadata": {},
   "outputs": [],
   "source": [
    "# Sample sentance to translate\n",
    "translate_me = 'A group of men are loading cotton onto a truck'"
   ]
  },
  {
   "cell_type": "code",
   "execution_count": null,
   "metadata": {},
   "outputs": [],
   "source": [
    "tok_list_trans = translate_sentence(model,translate_me,src_txt,trg_txt,device,max_length)"
   ]
  },
  {
   "cell_type": "code",
   "execution_count": null,
   "metadata": {},
   "outputs": [],
   "source": [
    "decoded_translation = ' '.join(tok_list_trans[0])\n",
    "decoded_translation = lt.replace('<unk>','')\n",
    "decoded_translation =lt.replace('<eos>','')\n"
   ]
  },
  {
   "cell_type": "code",
   "execution_count": null,
   "metadata": {},
   "outputs": [],
   "source": [
    "print(decoded_translation)\n"
   ]
  }
 ],
 "metadata": {
  "kernelspec": {
   "display_name": "deeplearning_pytorch",
   "language": "python",
   "name": "deeplearning_pytorch"
  },
  "language_info": {
   "codemirror_mode": {
    "name": "ipython",
    "version": 3
   },
   "file_extension": ".py",
   "mimetype": "text/x-python",
   "name": "python",
   "nbconvert_exporter": "python",
   "pygments_lexer": "ipython3",
   "version": "3.8.2"
  }
 },
 "nbformat": 4,
 "nbformat_minor": 4
}
